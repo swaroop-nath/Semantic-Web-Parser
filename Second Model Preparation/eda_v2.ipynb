{
 "cells": [
  {
   "cell_type": "code",
   "execution_count": 1,
   "metadata": {},
   "outputs": [],
   "source": [
    "import pandas as pd\n",
    "import numpy as np\n",
    "import seaborn as sns\n",
    "from matplotlib import pyplot as plt"
   ]
  },
  {
   "cell_type": "code",
   "execution_count": 8,
   "metadata": {},
   "outputs": [],
   "source": [
    "dataset = pd.read_csv('Second Iteration Data/dataset.csv')"
   ]
  },
  {
   "cell_type": "code",
   "execution_count": 9,
   "metadata": {},
   "outputs": [
    {
     "name": "stdout",
     "output_type": "stream",
     "text": [
      "<class 'pandas.core.frame.DataFrame'>\n",
      "RangeIndex: 16792 entries, 0 to 16791\n",
      "Data columns (total 22 columns):\n",
      "tag_header                 16792 non-null object\n",
      "tag_para                   16792 non-null object\n",
      "tag_formatting             16792 non-null object\n",
      "word_count                 16792 non-null int64\n",
      "interacting_span_tag       16792 non-null object\n",
      "relative_x_coord           16792 non-null float64\n",
      "relative_y_coord           16792 non-null float64\n",
      "relative_listings          16792 non-null float64\n",
      "relative_hyperlinks        16792 non-null float64\n",
      "tag_img                    16792 non-null object\n",
      "src_img_interaction        16792 non-null object\n",
      "red_flag_class             16792 non-null object\n",
      "tag_table                  16792 non-null object\n",
      "tag_sup                    16792 non-null object\n",
      "tag_sup_child              16792 non-null object\n",
      "tag_tab_elem               16792 non-null object\n",
      "red_flag_id                16792 non-null object\n",
      "relative_table_elements    16792 non-null float64\n",
      "height_width_diff          16792 non-null int64\n",
      "name                       16792 non-null object\n",
      "attrs                      16792 non-null object\n",
      "label                      2561 non-null float64\n",
      "dtypes: float64(6), int64(2), object(14)\n",
      "memory usage: 2.8+ MB\n"
     ]
    }
   ],
   "source": [
    "dataset.info()"
   ]
  },
  {
   "cell_type": "markdown",
   "metadata": {},
   "source": [
    "## Selecting all the observations with non empty labels"
   ]
  },
  {
   "cell_type": "code",
   "execution_count": 10,
   "metadata": {},
   "outputs": [],
   "source": [
    "data = dataset.loc[~dataset['label'].isna()]"
   ]
  },
  {
   "cell_type": "code",
   "execution_count": 11,
   "metadata": {},
   "outputs": [
    {
     "name": "stdout",
     "output_type": "stream",
     "text": [
      "(2561, 22)\n",
      "(16792, 22)\n"
     ]
    }
   ],
   "source": [
    "print(data.shape)\n",
    "print(dataset.shape)"
   ]
  },
  {
   "cell_type": "markdown",
   "metadata": {},
   "source": [
    "- We can see that there out of the ~16.5k values we have recorded, only ~2.5k values are of importance"
   ]
  },
  {
   "cell_type": "code",
   "execution_count": 12,
   "metadata": {},
   "outputs": [
    {
     "data": {
      "text/plain": [
       "1.0    1619\n",
       "0.0     942\n",
       "Name: label, dtype: int64"
      ]
     },
     "execution_count": 12,
     "metadata": {},
     "output_type": "execute_result"
    }
   ],
   "source": [
    "data['label'].value_counts()"
   ]
  },
  {
   "cell_type": "markdown",
   "metadata": {},
   "source": [
    "- So we have 942 occurences with unnecessary label and 1619 observations with necessary label.\n",
    "\n",
    "- 36.7% of the data in the sample are labelled unnecessary and 63.3% are labelled necessary. "
   ]
  },
  {
   "cell_type": "markdown",
   "metadata": {},
   "source": [
    "### Let us look at the distribution of word_count for different labels."
   ]
  },
  {
   "cell_type": "code",
   "execution_count": 13,
   "metadata": {},
   "outputs": [],
   "source": [
    "word_count_necessary = data.loc[data['label'] == 1.0, 'word_count'].values\n",
    "word_count_unnecessary = data.loc[data['label'] == 0.0, 'word_count'].values\n",
    "\n",
    "# word_count_unnecessary = [num + 0.1 for num in word_count_unnecessary]\n",
    "# word_count_unnecessary = np.log(word_count_unnecessary)"
   ]
  },
  {
   "cell_type": "code",
   "execution_count": 23,
   "metadata": {},
   "outputs": [
    {
     "data": {
      "image/png": "[encoded data removed]",
      "text/plain": [
       "<Figure size 1080x720 with 1 Axes>"
      ]
     },
     "metadata": {
      "needs_background": "light"
     },
     "output_type": "display_data"
    },
    {
     "data": {
      "image/png": "[encoded data removed]",
      "text/plain": [
       "<Figure size 1080x720 with 1 Axes>"
      ]
     },
     "metadata": {
      "needs_background": "light"
     },
     "output_type": "display_data"
    },
    {
     "name": "stdout",
     "output_type": "stream",
     "text": [
      "Min and Max of word_count in necessary tags: \n",
      "1\n",
      "31181\n",
      "Min and Max of word_count in unnecessary tags: \n",
      "0\n",
      "9442\n"
     ]
    }
   ],
   "source": [
    "plt.figure(figsize = (15,10))\n",
    "\n",
    "sns.distplot(word_count_necessary, label = 'label = 1', color = 'blue')\n",
    "plt.legend()\n",
    "plt.show()\n",
    "\n",
    "plt.figure(figsize = (15,10))\n",
    "sns.distplot(word_count_unnecessary, label = 'label = 0', color = 'orange')\n",
    "plt.legend()\n",
    "plt.show()\n",
    "\n",
    "print('Min and Max of word_count in necessary tags: ')\n",
    "print(min(word_count_necessary))\n",
    "print(max(word_count_necessary))\n",
    "\n",
    "print('Min and Max of word_count in unnecessary tags: ')\n",
    "print(min(word_count_unnecessary))\n",
    "print(max(word_count_unnecessary))"
   ]
  },
  {
   "cell_type": "markdown",
   "metadata": {},
   "source": [
    "- Observation 1 - There are a lot of necessary tags with very low word_count values. Hunch - a tags, header tags etc. Let's examine which tags generate such data, in order to develop some remedy.\n",
    "- Observation 2 - There are a few unnecessary tags with very high word_count values. Hunch - unncessary elements at the bottom of the page, such as - References, See Also, etc. Could multiplying word_count by (1 - relative_y_coord solve this)?"
   ]
  },
  {
   "cell_type": "code",
   "execution_count": 36,
   "metadata": {},
   "outputs": [
    {
     "name": "stdout",
     "output_type": "stream",
     "text": [
      "a       1040\n",
      "span     108\n",
      "i         67\n",
      "h3        48\n",
      "h4        37\n",
      "h2        23\n",
      "dt        11\n",
      "b          8\n",
      "p          5\n",
      "li         3\n",
      "h1         3\n",
      "div        1\n",
      "cite       1\n",
      "Name: name, dtype: int64\n"
     ]
    }
   ],
   "source": [
    "necessary_tags = data[(data['label'] == 1.0)]\n",
    "necessary_tags_low_count = necessary_tags.loc[(data['word_count']) < 10]\n",
    "\n",
    "print(necessary_tags_low_count.name.value_counts())"
   ]
  },
  {
   "cell_type": "markdown",
   "metadata": {},
   "source": [
    "- As expected there are a lot of hyperlinks, span(with headers) tags, header tags, formatting tags (b and i) with very low word_count. The remedy for them could be to have some multiplier, which works as :\n",
    "      \n",
    "       If the tag is header(or the others written above), multiply the word_count by 10, \n",
    "       else multiply by 1.\n",
    "       For header and span tags within headers, this multiplication can cause problems \n",
    "       - it might generate outlier values for headers at the lower part of the page. \n",
    "       Hence there has to be a multiplier correlated with y coordinate too.\n",
    "       \n",
    "- Check which p tags have such low values of word_count for caution. Don't have a multiplier for them as of yet.\n",
    "       \n",
    "- For other tags such as dt, li, div and cite, examine further before remedying them. However, they are very low in number(a total of just 16), so they can be kept as it is."
   ]
  },
  {
   "cell_type": "code",
   "execution_count": 37,
   "metadata": {},
   "outputs": [
    {
     "name": "stdout",
     "output_type": "stream",
     "text": [
      "div      60\n",
      "ul        4\n",
      "table     4\n",
      "style     2\n",
      "span      1\n",
      "Name: name, dtype: int64\n"
     ]
    }
   ],
   "source": [
    "unnecessary_tags = data[(data['label'] == 0.0)]\n",
    "unnecessary_tags_low_count = unnecessary_tags.loc[(data['word_count']) > 10]\n",
    "\n",
    "print(unnecessary_tags_low_count.name.value_counts())"
   ]
  },
  {
   "cell_type": "markdown",
   "metadata": {},
   "source": [
    "- divs with high word_count refer to the divs with note(hatnote), divs with images(may be), divs within References/See Also type sections. Check them thoroughly before proceeding with some multiplier value.\n",
    "\n",
    "- Same goes for ul tags.\n",
    "\n",
    "- For table tag, we can have a multiplier which works in the opposite sense as above.\n",
    "\n",
    "        If tag_table is 'YES' multiply bu 0.1, else multiply by 1.\n",
    "        \n",
    "- Check which style and span tags have high word_count, later on. Leaving them at this point should not make much of a problem."
   ]
  },
  {
   "cell_type": "code",
   "execution_count": 42,
   "metadata": {},
   "outputs": [
    {
     "name": "stdout",
     "output_type": "stream",
     "text": [
      "For divs at upper locations\n",
      "<bound method IndexOpsMixin.value_counts of 1067     ['note', ['hatnote', 'navigation-not-searchabl...\n",
      "1069     [['shortdescription', 'nomobile', 'noexcerpt',...\n",
      "1391                                      ['toc', ['toc']]\n",
      "1604                                 [['thumb', 'tright']]\n",
      "2112                                 [['thumb', 'tright']]\n",
      "4359                                        ['contentSub']\n",
      "4374     ['note', ['hatnote', 'navigation-not-searchabl...\n",
      "4599                                      [['toclimit-3']]\n",
      "4934     ['note', ['hatnote', 'navigation-not-searchabl...\n",
      "4937                                 [['thumb', 'tright']]\n",
      "5215                                 [['thumb', 'tright']]\n",
      "5237                                 [['thumb', 'tright']]\n",
      "5302                                 [['thumb', 'tright']]\n",
      "5384                                 [['thumb', 'tright']]\n",
      "5451                                 [['thumb', 'tright']]\n",
      "5490                                 [['thumb', 'tright']]\n",
      "6075     ['note', ['hatnote', 'navigation-not-searchabl...\n",
      "6082                                 [['thumb', 'tright']]\n",
      "6207                                 [['thumb', 'tright']]\n",
      "6445     ['note', ['hatnote', 'navigation-not-searchabl...\n",
      "6499                                 [['thumb', 'tright']]\n",
      "6561                                 [['thumb', 'tright']]\n",
      "6791     ['note', ['hatnote', 'navigation-not-searchabl...\n",
      "6881     ['note', ['hatnote', 'navigation-not-searchabl...\n",
      "6901     ['note', ['hatnote', 'navigation-not-searchabl...\n",
      "13731    ['navigation', ['navbox'], 'John_McCarthy', 'p...\n",
      "13773    ['navigation', ['navbox'], 'Philosophy_of_mind...\n",
      "13964    ['navigation', ['navbox'], 'Philosophy_of_scie...\n",
      "14367    ['navigation', ['navbox'], 'Evolutionary_compu...\n",
      "15092    ['navigation', ['navbox'], 'Emerging_technolog...\n",
      "15195    ['navigation', ['navbox'], 'Robotics', 'paddin...\n",
      "Name: attrs, dtype: object>\n",
      "------------------------------\n",
      "For divs at lower locations\n",
      "<bound method IndexOpsMixin.value_counts of 535      [['reflist', 'columns', 'references-column-wid...\n",
      "1030               ['catlinks', ['catlinks'], 'interface']\n",
      "2216                                 [['thumb', 'tright']]\n",
      "2283     [['div-col', 'columns', 'column-width'], '-moz...\n",
      "2514     [['div-col', 'columns', 'column-width'], '-moz...\n",
      "2586     [['div-col', 'columns', 'column-width'], '-moz...\n",
      "2666     [['div-col', 'columns', 'column-width'], '-moz...\n",
      "3821     [['refbegin', 'reflist', 'columns', 'reference...\n",
      "3911     ['navigation', ['navbox'], 'Computer_science',...\n",
      "4329               ['catlinks', ['catlinks'], 'interface']\n",
      "7384                                 [['thumb', 'tright']]\n",
      "7466     [['div-col', 'columns', 'column-width'], '-moz...\n",
      "7513        [['reflist'], 'list-style-type: lower-alpha;']\n",
      "7600     [['reflist', 'columns', 'references-column-wid...\n",
      "12520    [['refbegin', 'reflist', 'columns', 'reference...\n",
      "12656    [['refbegin', 'reflist', 'columns', 'reference...\n",
      "12702    [['refbegin', 'reflist', 'columns', 'reference...\n",
      "13550    [['refbegin', 'reflist', 'columns', 'reference...\n",
      "13664    ['navigation', 'sister-projects', ['metadata',...\n",
      "13722    ['navigation', ['navbox'], 'Links_to_related_a...\n",
      "15397    ['navigation', ['navbox'], 'Existential_risk_f...\n",
      "15544    ['navigation', ['navbox'], 'Philosophy_of_mind...\n",
      "15735    ['navigation', ['navbox'], 'Subfields_of_and_c...\n",
      "15920    ['navigation', ['navbox'], 'Computer_science',...\n",
      "16334    ['navigation', ['navbox'], 'Evolutionary_compu...\n",
      "16471    ['navigation', ['navbox'], 'Emerging_technolog...\n",
      "16574    ['navigation', ['navbox'], 'Glossaries_of_scie...\n",
      "16671    ['navigation', ['navbox', 'authority-control']...\n",
      "16707              ['catlinks', ['catlinks'], 'interface']\n",
      "Name: attrs, dtype: object>\n"
     ]
    }
   ],
   "source": [
    "unnecessary_tags_low_count_div = unnecessary_tags_low_count[unnecessary_tags_low_count['name'] == 'div']\n",
    "\n",
    "# Checking for divs at upper locations\n",
    "unnecessary_tags_low_count_div_up = unnecessary_tags_low_count_div[unnecessary_tags_low_count_div['relative_y_coord'] < 0.5]\n",
    "print('For divs at upper locations')\n",
    "print(unnecessary_tags_low_count_div_up.attrs.value_counts)\n",
    "print('------------------------------')\n",
    "# Checking for divs at lower locations\n",
    "unnecessary_tags_low_count_div_low = unnecessary_tags_low_count_div[unnecessary_tags_low_count_div['relative_y_coord'] > 0.5]\n",
    "print('For divs at lower locations')\n",
    "print(unnecessary_tags_low_count_div_low.attrs.value_counts)"
   ]
  },
  {
   "cell_type": "markdown",
   "metadata": {},
   "source": [
    "- As expected, at upper locations, this anomaly is due to Table of Contents section, hatnotes, and at lower locations it is mostly due to sections in references.\n",
    "        \n",
    "        This can be remedied by mulitplying with 0.1 if the tag is div and red_flag_class \n",
    "        is 'YES', else multiply by 1."
   ]
  },
  {
   "cell_type": "code",
   "execution_count": 46,
   "metadata": {},
   "outputs": [
    {
     "data": {
      "image/png": "[encoded data removed]",
      "text/plain": [
       "<Figure size 432x288 with 1 Axes>"
      ]
     },
     "metadata": {
      "needs_background": "light"
     },
     "output_type": "display_data"
    },
    {
     "data": {
      "text/plain": [
       "<matplotlib.axes._subplots.AxesSubplot at 0x1a1b4391d0>"
      ]
     },
     "execution_count": 46,
     "metadata": {},
     "output_type": "execute_result"
    },
    {
     "data": {
      "image/png": "[encoded data removed]",
      "text/plain": [
       "<Figure size 432x288 with 1 Axes>"
      ]
     },
     "metadata": {
      "needs_background": "light"
     },
     "output_type": "display_data"
    }
   ],
   "source": [
    "unnecessary_tags_low_count_ul = unnecessary_tags_low_count[unnecessary_tags_low_count['name'] == 'ul']\n",
    "\n",
    "sns.distplot(unnecessary_tags_low_count_ul['relative_y_coord'])\n",
    "plt.show()\n",
    "sns.distplot(unnecessary_tags_low_count_ul['word_count'])"
   ]
  },
  {
   "cell_type": "markdown",
   "metadata": {},
   "source": [
    "- The word_count for ul tags is considerably high. So remedying this can't be ignored. We can do this as - \n",
    "        \n",
    "        We can multiply 0.1 if the relative_y_coord is greater than a certain value.\n",
    "        \n",
    "- How do we find this value? Let's look at the values of relative_y_coord where tag_header is 'YES' but label is '0' in the data."
   ]
  },
  {
   "cell_type": "code",
   "execution_count": 48,
   "metadata": {},
   "outputs": [
    {
     "data": {
      "text/plain": [
       "<matplotlib.axes._subplots.AxesSubplot at 0x1a1ac7e7d0>"
      ]
     },
     "execution_count": 48,
     "metadata": {},
     "output_type": "execute_result"
    },
    {
     "data": {
      "image/png": "[encoded data removed]",
      "text/plain": [
       "<Figure size 432x288 with 1 Axes>"
      ]
     },
     "metadata": {
      "needs_background": "light"
     },
     "output_type": "display_data"
    }
   ],
   "source": [
    "unnecessary_headers = data[(data['tag_header'] == 'YES') & (data['label'] == 0)]\n",
    "\n",
    "sns.distplot(unnecessary_headers['relative_y_coord'])\n",
    "plt.show()\n",
    "\n",
    "necessary_tags = data[data['label'] == 1.0]"
   ]
  },
  {
   "cell_type": "markdown",
   "metadata": {},
   "source": [
    "- We can have a threshold value of ~0.65 (tune it between 0.6 and 0.7 against word_count distribution)."
   ]
  },
  {
   "cell_type": "markdown",
   "metadata": {},
   "source": [
    "## Takeaways\n",
    "\n",
    "- For 'YES' values of tag_header, interacting_span_tag, tag_formatting multiply the word_count by 10, else by 1.\n",
    "\n",
    "- For div tags, if red_flag_class is 'YES', multiply by 0.1, else by 1.\n",
    "\n",
    "- Multiply the word_count "
   ]
  },
  {
   "cell_type": "code",
   "execution_count": null,
   "metadata": {},
   "outputs": [],
   "source": []
  }
 ],
 "metadata": {
  "kernelspec": {
   "display_name": "Python 3",
   "language": "python",
   "name": "python3"
  },
  "language_info": {
   "codemirror_mode": {
    "name": "ipython",
    "version": 3
   },
   "file_extension": ".py",
   "mimetype": "text/x-python",
   "name": "python",
   "nbconvert_exporter": "python",
   "pygments_lexer": "ipython3",
   "version": "3.7.4"
  }
 },
 "nbformat": 4,
 "nbformat_minor": 2
}
