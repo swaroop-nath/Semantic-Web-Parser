{
 "cells": [
  {
   "cell_type": "code",
   "execution_count": 1,
   "metadata": {},
   "outputs": [],
   "source": [
    "import pandas as pd\n",
    "import numpy as np\n",
    "import seaborn as sns\n",
    "from matplotlib import pyplot as plt"
   ]
  },
  {
   "cell_type": "code",
   "execution_count": 2,
   "metadata": {},
   "outputs": [],
   "source": [
    "dataset = pd.read_csv('Second Iteration Data/dataset.csv')"
   ]
  },
  {
   "cell_type": "code",
   "execution_count": 9,
   "metadata": {},
   "outputs": [
    {
     "name": "stdout",
     "output_type": "stream",
     "text": [
      "<class 'pandas.core.frame.DataFrame'>\n",
      "RangeIndex: 16792 entries, 0 to 16791\n",
      "Data columns (total 22 columns):\n",
      "tag_header                 16792 non-null object\n",
      "tag_para                   16792 non-null object\n",
      "tag_formatting             16792 non-null object\n",
      "word_count                 16792 non-null int64\n",
      "interacting_span_tag       16792 non-null object\n",
      "relative_x_coord           16792 non-null float64\n",
      "relative_y_coord           16792 non-null float64\n",
      "relative_listings          16792 non-null float64\n",
      "relative_hyperlinks        16792 non-null float64\n",
      "tag_img                    16792 non-null object\n",
      "src_img_interaction        16792 non-null object\n",
      "red_flag_class             16792 non-null object\n",
      "tag_table                  16792 non-null object\n",
      "tag_sup                    16792 non-null object\n",
      "tag_sup_child              16792 non-null object\n",
      "tag_tab_elem               16792 non-null object\n",
      "red_flag_id                16792 non-null object\n",
      "relative_table_elements    16792 non-null float64\n",
      "height_width_diff          16792 non-null int64\n",
      "name                       16792 non-null object\n",
      "attrs                      16792 non-null object\n",
      "label                      2561 non-null float64\n",
      "dtypes: float64(6), int64(2), object(14)\n",
      "memory usage: 2.8+ MB\n"
     ]
    }
   ],
   "source": [
    "dataset.info()"
   ]
  },
  {
   "cell_type": "markdown",
   "metadata": {},
   "source": [
    "## Selecting all the observations with non empty labels"
   ]
  },
  {
   "cell_type": "code",
   "execution_count": 3,
   "metadata": {},
   "outputs": [],
   "source": [
    "data = dataset.loc[~dataset['label'].isna()]"
   ]
  },
  {
   "cell_type": "code",
   "execution_count": 11,
   "metadata": {},
   "outputs": [
    {
     "name": "stdout",
     "output_type": "stream",
     "text": [
      "(2561, 22)\n",
      "(16792, 22)\n"
     ]
    }
   ],
   "source": [
    "print(data.shape)\n",
    "print(dataset.shape)"
   ]
  },
  {
   "cell_type": "markdown",
   "metadata": {},
   "source": [
    "- We can see that there out of the ~16.5k values we have recorded, only ~2.5k values are of importance"
   ]
  },
  {
   "cell_type": "code",
   "execution_count": 12,
   "metadata": {},
   "outputs": [
    {
     "data": {
      "text/plain": [
       "1.0    1619\n",
       "0.0     942\n",
       "Name: label, dtype: int64"
      ]
     },
     "execution_count": 12,
     "metadata": {},
     "output_type": "execute_result"
    }
   ],
   "source": [
    "data['label'].value_counts()"
   ]
  },
  {
   "cell_type": "markdown",
   "metadata": {},
   "source": [
    "- So we have 942 occurences with unnecessary label and 1619 observations with necessary label.\n",
    "\n",
    "- 36.7% of the data in the sample are labelled unnecessary and 63.3% are labelled necessary. "
   ]
  },
  {
   "cell_type": "markdown",
   "metadata": {},
   "source": [
    "### Let us look at the distribution of word_count for different labels."
   ]
  },
  {
   "cell_type": "code",
   "execution_count": 13,
   "metadata": {},
   "outputs": [],
   "source": [
    "word_count_necessary = data.loc[data['label'] == 1.0, 'word_count'].values\n",
    "word_count_unnecessary = data.loc[data['label'] == 0.0, 'word_count'].values\n",
    "\n",
    "# word_count_unnecessary = [num + 0.1 for num in word_count_unnecessary]\n",
    "# word_count_unnecessary = np.log(word_count_unnecessary)"
   ]
  },
  {
   "cell_type": "code",
   "execution_count": 23,
   "metadata": {},
   "outputs": [
    {
     "data": {
      "image/png": "[encoded data removed]",
      "text/plain": [
       "<Figure size 1080x720 with 1 Axes>"
      ]
     },
     "metadata": {
      "needs_background": "light"
     },
     "output_type": "display_data"
    },
    {
     "data": {
      "image/png": "[encoded data removed]",
      "text/plain": [
       "<Figure size 1080x720 with 1 Axes>"
      ]
     },
     "metadata": {
      "needs_background": "light"
     },
     "output_type": "display_data"
    },
    {
     "name": "stdout",
     "output_type": "stream",
     "text": [
      "Min and Max of word_count in necessary tags: \n",
      "1\n",
      "31181\n",
      "Min and Max of word_count in unnecessary tags: \n",
      "0\n",
      "9442\n"
     ]
    }
   ],
   "source": [
    "plt.figure(figsize = (15,10))\n",
    "\n",
    "sns.distplot(word_count_necessary, label = 'label = 1', color = 'blue')\n",
    "plt.legend()\n",
    "plt.show()\n",
    "\n",
    "plt.figure(figsize = (15,10))\n",
    "sns.distplot(word_count_unnecessary, label = 'label = 0', color = 'orange')\n",
    "plt.legend()\n",
    "plt.show()\n",
    "\n",
    "print('Min and Max of word_count in necessary tags: ')\n",
    "print(min(word_count_necessary))\n",
    "print(max(word_count_necessary))\n",
    "\n",
    "print('Min and Max of word_count in unnecessary tags: ')\n",
    "print(min(word_count_unnecessary))\n",
    "print(max(word_count_unnecessary))"
   ]
  },
  {
   "cell_type": "markdown",
   "metadata": {},
   "source": [
    "- Observation 1 - There are a lot of necessary tags with very low word_count values. Hunch - a tags, header tags etc. Let's examine which tags generate such data, in order to develop some remedy.\n",
    "- Observation 2 - There are a few unnecessary tags with very high word_count values. Hunch - unncessary elements at the bottom of the page, such as - References, See Also, etc. Could multiplying word_count by (1 - relative_y_coord solve this)?"
   ]
  },
  {
   "cell_type": "code",
   "execution_count": 36,
   "metadata": {},
   "outputs": [
    {
     "name": "stdout",
     "output_type": "stream",
     "text": [
      "a       1040\n",
      "span     108\n",
      "i         67\n",
      "h3        48\n",
      "h4        37\n",
      "h2        23\n",
      "dt        11\n",
      "b          8\n",
      "p          5\n",
      "li         3\n",
      "h1         3\n",
      "div        1\n",
      "cite       1\n",
      "Name: name, dtype: int64\n"
     ]
    }
   ],
   "source": [
    "necessary_tags = data[(data['label'] == 1.0)]\n",
    "necessary_tags_low_count = necessary_tags.loc[(data['word_count']) < 10]\n",
    "\n",
    "print(necessary_tags_low_count.name.value_counts())"
   ]
  },
  {
   "cell_type": "markdown",
   "metadata": {},
   "source": [
    "- As expected there are a lot of hyperlinks, span(with headers) tags, header tags, formatting tags (b and i) with very low word_count. The remedy for them could be to have some multiplier, which works as :\n",
    "      \n",
    "       If the tag is header(or the others written above), multiply the word_count by 10, \n",
    "       else multiply by 1.\n",
    "       For header and span tags within headers, this multiplication can cause problems \n",
    "       - it might generate outlier values for headers at the lower part of the page. \n",
    "       Hence there has to be a multiplier correlated with y coordinate too.\n",
    "       \n",
    "- Check which p tags have such low values of word_count for caution. Don't have a multiplier for them as of yet.\n",
    "       \n",
    "- For other tags such as dt, li, div and cite, examine further before remedying them. However, they are very low in number(a total of just 16), so they can be kept as it is."
   ]
  },
  {
   "cell_type": "code",
   "execution_count": 37,
   "metadata": {},
   "outputs": [
    {
     "name": "stdout",
     "output_type": "stream",
     "text": [
      "div      60\n",
      "ul        4\n",
      "table     4\n",
      "style     2\n",
      "span      1\n",
      "Name: name, dtype: int64\n"
     ]
    }
   ],
   "source": [
    "unnecessary_tags = data[(data['label'] == 0.0)]\n",
    "unnecessary_tags_low_count = unnecessary_tags.loc[(data['word_count']) > 10]\n",
    "\n",
    "print(unnecessary_tags_low_count.name.value_counts())"
   ]
  },
  {
   "cell_type": "markdown",
   "metadata": {},
   "source": [
    "- divs with high word_count refer to the divs with note(hatnote), divs with images(may be), divs within References/See Also type sections. Check them thoroughly before proceeding with some multiplier value.\n",
    "\n",
    "- Same goes for ul tags.\n",
    "\n",
    "- For table tag, we can have a multiplier which works in the opposite sense as above.\n",
    "\n",
    "        If tag_table is 'YES' multiply bu 0.1, else multiply by 1.\n",
    "        \n",
    "- Check which style and span tags have high word_count, later on. Leaving them at this point should not make much of a problem."
   ]
  },
  {
   "cell_type": "code",
   "execution_count": 42,
   "metadata": {},
   "outputs": [
    {
     "name": "stdout",
     "output_type": "stream",
     "text": [
      "For divs at upper locations\n",
      "<bound method IndexOpsMixin.value_counts of 1067     ['note', ['hatnote', 'navigation-not-searchabl...\n",
      "1069     [['shortdescription', 'nomobile', 'noexcerpt',...\n",
      "1391                                      ['toc', ['toc']]\n",
      "1604                                 [['thumb', 'tright']]\n",
      "2112                                 [['thumb', 'tright']]\n",
      "4359                                        ['contentSub']\n",
      "4374     ['note', ['hatnote', 'navigation-not-searchabl...\n",
      "4599                                      [['toclimit-3']]\n",
      "4934     ['note', ['hatnote', 'navigation-not-searchabl...\n",
      "4937                                 [['thumb', 'tright']]\n",
      "5215                                 [['thumb', 'tright']]\n",
      "5237                                 [['thumb', 'tright']]\n",
      "5302                                 [['thumb', 'tright']]\n",
      "5384                                 [['thumb', 'tright']]\n",
      "5451                                 [['thumb', 'tright']]\n",
      "5490                                 [['thumb', 'tright']]\n",
      "6075     ['note', ['hatnote', 'navigation-not-searchabl...\n",
      "6082                                 [['thumb', 'tright']]\n",
      "6207                                 [['thumb', 'tright']]\n",
      "6445     ['note', ['hatnote', 'navigation-not-searchabl...\n",
      "6499                                 [['thumb', 'tright']]\n",
      "6561                                 [['thumb', 'tright']]\n",
      "6791     ['note', ['hatnote', 'navigation-not-searchabl...\n",
      "6881     ['note', ['hatnote', 'navigation-not-searchabl...\n",
      "6901     ['note', ['hatnote', 'navigation-not-searchabl...\n",
      "13731    ['navigation', ['navbox'], 'John_McCarthy', 'p...\n",
      "13773    ['navigation', ['navbox'], 'Philosophy_of_mind...\n",
      "13964    ['navigation', ['navbox'], 'Philosophy_of_scie...\n",
      "14367    ['navigation', ['navbox'], 'Evolutionary_compu...\n",
      "15092    ['navigation', ['navbox'], 'Emerging_technolog...\n",
      "15195    ['navigation', ['navbox'], 'Robotics', 'paddin...\n",
      "Name: attrs, dtype: object>\n",
      "------------------------------\n",
      "For divs at lower locations\n",
      "<bound method IndexOpsMixin.value_counts of 535      [['reflist', 'columns', 'references-column-wid...\n",
      "1030               ['catlinks', ['catlinks'], 'interface']\n",
      "2216                                 [['thumb', 'tright']]\n",
      "2283     [['div-col', 'columns', 'column-width'], '-moz...\n",
      "2514     [['div-col', 'columns', 'column-width'], '-moz...\n",
      "2586     [['div-col', 'columns', 'column-width'], '-moz...\n",
      "2666     [['div-col', 'columns', 'column-width'], '-moz...\n",
      "3821     [['refbegin', 'reflist', 'columns', 'reference...\n",
      "3911     ['navigation', ['navbox'], 'Computer_science',...\n",
      "4329               ['catlinks', ['catlinks'], 'interface']\n",
      "7384                                 [['thumb', 'tright']]\n",
      "7466     [['div-col', 'columns', 'column-width'], '-moz...\n",
      "7513        [['reflist'], 'list-style-type: lower-alpha;']\n",
      "7600     [['reflist', 'columns', 'references-column-wid...\n",
      "12520    [['refbegin', 'reflist', 'columns', 'reference...\n",
      "12656    [['refbegin', 'reflist', 'columns', 'reference...\n",
      "12702    [['refbegin', 'reflist', 'columns', 'reference...\n",
      "13550    [['refbegin', 'reflist', 'columns', 'reference...\n",
      "13664    ['navigation', 'sister-projects', ['metadata',...\n",
      "13722    ['navigation', ['navbox'], 'Links_to_related_a...\n",
      "15397    ['navigation', ['navbox'], 'Existential_risk_f...\n",
      "15544    ['navigation', ['navbox'], 'Philosophy_of_mind...\n",
      "15735    ['navigation', ['navbox'], 'Subfields_of_and_c...\n",
      "15920    ['navigation', ['navbox'], 'Computer_science',...\n",
      "16334    ['navigation', ['navbox'], 'Evolutionary_compu...\n",
      "16471    ['navigation', ['navbox'], 'Emerging_technolog...\n",
      "16574    ['navigation', ['navbox'], 'Glossaries_of_scie...\n",
      "16671    ['navigation', ['navbox', 'authority-control']...\n",
      "16707              ['catlinks', ['catlinks'], 'interface']\n",
      "Name: attrs, dtype: object>\n"
     ]
    }
   ],
   "source": [
    "unnecessary_tags_low_count_div = unnecessary_tags_low_count[unnecessary_tags_low_count['name'] == 'div']\n",
    "\n",
    "# Checking for divs at upper locations\n",
    "unnecessary_tags_low_count_div_up = unnecessary_tags_low_count_div[unnecessary_tags_low_count_div['relative_y_coord'] < 0.5]\n",
    "print('For divs at upper locations')\n",
    "print(unnecessary_tags_low_count_div_up.attrs.value_counts)\n",
    "print('------------------------------')\n",
    "# Checking for divs at lower locations\n",
    "unnecessary_tags_low_count_div_low = unnecessary_tags_low_count_div[unnecessary_tags_low_count_div['relative_y_coord'] > 0.5]\n",
    "print('For divs at lower locations')\n",
    "print(unnecessary_tags_low_count_div_low.attrs.value_counts)"
   ]
  },
  {
   "cell_type": "markdown",
   "metadata": {},
   "source": [
    "- As expected, at upper locations, this anomaly is due to Table of Contents section, hatnotes, and at lower locations it is mostly due to sections in references.\n",
    "        \n",
    "        This can be remedied by mulitplying with 0.1 if the tag is div and red_flag_class \n",
    "        is 'YES', else multiply by 1."
   ]
  },
  {
   "cell_type": "code",
   "execution_count": 46,
   "metadata": {},
   "outputs": [
    {
     "data": {
      "image/png": "[encoded data removed]",
      "text/plain": [
       "<Figure size 432x288 with 1 Axes>"
      ]
     },
     "metadata": {
      "needs_background": "light"
     },
     "output_type": "display_data"
    },
    {
     "data": {
      "text/plain": [
       "<matplotlib.axes._subplots.AxesSubplot at 0x1a1b4391d0>"
      ]
     },
     "execution_count": 46,
     "metadata": {},
     "output_type": "execute_result"
    },
    {
     "data": {
      "image/png": "[encoded data removed]",
      "text/plain": [
       "<Figure size 432x288 with 1 Axes>"
      ]
     },
     "metadata": {
      "needs_background": "light"
     },
     "output_type": "display_data"
    }
   ],
   "source": [
    "unnecessary_tags_low_count_ul = unnecessary_tags_low_count[unnecessary_tags_low_count['name'] == 'ul']\n",
    "\n",
    "sns.distplot(unnecessary_tags_low_count_ul['relative_y_coord'])\n",
    "plt.show()\n",
    "sns.distplot(unnecessary_tags_low_count_ul['word_count'])"
   ]
  },
  {
   "cell_type": "markdown",
   "metadata": {},
   "source": [
    "- The word_count for ul tags is considerably high. So remedying this can't be ignored. We can do this as - \n",
    "        \n",
    "        We can multiply 0.1 if the relative_y_coord is greater than a certain value.\n",
    "        \n",
    "- How do we find this value? Let's look at the values of relative_y_coord where tag_header is 'YES' but label is '0' in the data."
   ]
  },
  {
   "cell_type": "code",
   "execution_count": 9,
   "metadata": {},
   "outputs": [
    {
     "data": {
      "image/png": "[encoded data removed]",
      "text/plain": [
       "<Figure size 432x288 with 1 Axes>"
      ]
     },
     "metadata": {
      "needs_background": "light"
     },
     "output_type": "display_data"
    },
    {
     "data": {
      "image/png": "[encoded data removed]",
      "text/plain": [
       "<Figure size 432x288 with 1 Axes>"
      ]
     },
     "metadata": {
      "needs_background": "light"
     },
     "output_type": "display_data"
    }
   ],
   "source": [
    "unnecessary_headers = data[(data['tag_header'] == 'YES') & (data['label'] == 0)]\n",
    "\n",
    "sns.distplot(unnecessary_headers['relative_y_coord'])\n",
    "plt.title('Unncessary headers')\n",
    "plt.show()\n",
    "\n",
    "necessary_tags = data[data['label'] == 1.0]\n",
    "\n",
    "sns.distplot(necessary_tags['relative_y_coord'])\n",
    "plt.title('Necessary headers')\n",
    "plt.show()"
   ]
  },
  {
   "cell_type": "markdown",
   "metadata": {},
   "source": [
    "- We can have a threshold value of ~0.7"
   ]
  },
  {
   "cell_type": "markdown",
   "metadata": {},
   "source": [
    "## Takeaways\n",
    "\n",
    "- For 'YES' values of tag_header, interacting_span_tag, tag_formatting multiply the word_count by 10, else by 1.\n",
    "\n",
    "- For div tags, if red_flag_class is 'YES', multiply by 0.1, else by 1.\n",
    "\n",
    "- Multiply the word_count by 0.1 if relative_y_coord is greater than 0.7"
   ]
  },
  {
   "cell_type": "code",
   "execution_count": 17,
   "metadata": {},
   "outputs": [],
   "source": [
    "relative_listings_unnecessary = data.loc[data['label'] == 0, 'relative_listings'].values\n",
    "relative_listings_necessary = data.loc[data['label'] == 1, 'relative_listings'].values"
   ]
  },
  {
   "cell_type": "code",
   "execution_count": 9,
   "metadata": {},
   "outputs": [
    {
     "name": "stdout",
     "output_type": "stream",
     "text": [
      "Characteristics of necessary tags-\n",
      " min: 0.0, max: 0.09375\n",
      "Characteristics of unnecessary tags-\n",
      " min: 0.0, max: 10.0\n"
     ]
    },
    {
     "data": {
      "image/png": "[encoded data removed]",
      "text/plain": [
       "<Figure size 432x288 with 1 Axes>"
      ]
     },
     "metadata": {
      "needs_background": "light"
     },
     "output_type": "display_data"
    }
   ],
   "source": [
    "sns.distplot(relative_listings_unnecessary, label = 'Unnecessary tags')\n",
    "sns.distplot(relative_listings_necessary, label = 'Necessary tags')\n",
    "plt.ylim([0,3])\n",
    "plt.legend()\n",
    "\n",
    "print('Characteristics of necessary tags-\\n min: {}, max: {}'.format(min(relative_listings_necessary), max(relative_listings_necessary)))\n",
    "print('Characteristics of unnecessary tags-\\n min: {}, max: {}'.format(min(relative_listings_unnecessary), max(relative_listings_unnecessary)))"
   ]
  },
  {
   "cell_type": "markdown",
   "metadata": {},
   "source": [
    "As we can see, that there are still a lot number of tags which get filtered out due to the relative_listings parameter.\n",
    "\n",
    "As for the tags with very low value, we will examine if there are any other feature which can help the model in correctly labelling them."
   ]
  },
  {
   "cell_type": "code",
   "execution_count": 41,
   "metadata": {},
   "outputs": [
    {
     "data": {
      "text/plain": [
       "sup      634\n",
       "div      133\n",
       "span     109\n",
       "h2         9\n",
       "a          6\n",
       "style      5\n",
       "table      5\n",
       "ul         4\n",
       "h3         3\n",
       "Name: name, dtype: int64"
      ]
     },
     "execution_count": 41,
     "metadata": {},
     "output_type": "execute_result"
    }
   ],
   "source": [
    "low_relative_listings_unnecessary = data.loc[(data['label'] == 0) & (data['relative_listings'] < 1)]\n",
    "low_relative_listings_unnecessary.name.value_counts()"
   ]
  },
  {
   "cell_type": "markdown",
   "metadata": {},
   "source": [
    "We can see that a majority of these tags are sup - which can be filtered out using __tag_sup__ feature. There are a handful of div and span tags, a few headers and hyperlinks - these are futher analysed. As for the remaining, table can be left out of further analysis, as __tag_table__ will filter them out, style and ul tags need to be analysed."
   ]
  },
  {
   "cell_type": "code",
   "execution_count": 42,
   "metadata": {
    "scrolled": true
   },
   "outputs": [
    {
     "data": {
      "text/plain": [
       "['note', ['hatnote', 'navigation-not-searchable']]                                                                                                                                                                                        69\n",
       "[['thumb', 'tright']]                                                                                                                                                                                                                     19\n",
       "[['refbegin', 'reflist', 'columns', 'references-column-width'], '-moz-column-width: 30em; -webkit-column-width: 30em; column-width: 30em;']                                                                                                4\n",
       "['siteSub', ['noprint']]                                                                                                                                                                                                                   3\n",
       "['catlinks', ['catlinks'], 'interface']                                                                                                                                                                                                    3\n",
       "[['printfooter']]                                                                                                                                                                                                                          3\n",
       "['toc', ['toc']]                                                                                                                                                                                                                           2\n",
       "[['div-col', 'columns', 'column-width'], '-moz-column-width: 18em; -webkit-column-width: 18em; column-width: 18em;']                                                                                                                       2\n",
       "['navigation', ['navbox'], 'Emerging_technologies_in_information_and_communications', 'padding:3px']                                                                                                                                       2\n",
       "['navigation', ['navbox'], 'Evolutionary_computation', 'padding:3px']                                                                                                                                                                      2\n",
       "['navigation', ['navbox'], 'Philosophy_of_mind', 'padding:3px']                                                                                                                                                                            2\n",
       "['navigation', ['navbox'], 'Computer_science', 'padding:3px']                                                                                                                                                                              2\n",
       "[['div-col', 'columns', 'column-width'], '-moz-column-width: 15em; -webkit-column-width: 15em; column-width: 15em;']                                                                                                                       1\n",
       "['navigation', ['navbox'], 'Glossaries_of_science_and_engineering', 'padding:3px']                                                                                                                                                         1\n",
       "[['reflist'], 'list-style-type: lower-alpha;']                                                                                                                                                                                             1\n",
       "['navigation', ['navbox'], 'Robotics', 'padding:3px']                                                                                                                                                                                      1\n",
       "[['div-col', 'columns', 'column-width'], '-moz-column-width: 20em; -webkit-column-width: 20em; column-width: 20em;']                                                                                                                       1\n",
       "[['shortdescription', 'nomobile', 'noexcerpt', 'noprint', 'searchaux'], 'display:none']                                                                                                                                                    1\n",
       "[['toclimit-3']]                                                                                                                                                                                                                           1\n",
       "['contentSub']                                                                                                                                                                                                                             1\n",
       "['navigation', ['navbox'], 'Subfields_of_and_cyberneticians_involved_in_cybernetics', 'padding:3px']                                                                                                                                       1\n",
       "['navigation', ['navbox'], 'Existential_risk_from_artificial_intelligence', 'padding:3px']                                                                                                                                                 1\n",
       "['navigation', 'sister-projects', ['metadata', 'plainlinks', 'sistersitebox', 'plainlist', 'mbox-small'], 'border:1px solid #aaa; padding:0; background:#f9f9f9;']                                                                         1\n",
       "[['refbegin', 'reflist', 'columns', 'references-column-count', 'references-column-count-2'], '-moz-column-count: 2; -webkit-column-count: 2; column-count: 2;']                                                                            1\n",
       "[['div-col', 'columns', 'column-width'], '-moz-column-width: 30em; -webkit-column-width: 30em; column-width: 30em;']                                                                                                                       1\n",
       "[['reflist', 'columns', 'references-column-width'], '-moz-column-width: 35em; -webkit-column-width: 35em; column-width: 35em; list-style-type: decimal;']                                                                                  1\n",
       "['navigation', ['navbox'], 'Links_to_related_articles', 'padding:3px']                                                                                                                                                                     1\n",
       "['navigation', ['navbox', 'authority-control'], 'Authority_control_frameless_&#124;text-top_&#124;10px_&#124;alt=Edit_this_at_Wikidata_&#124;link=https&#58;//www.wikidata.org/wiki/Q11660&#124;Edit_this_at_Wikidata', 'padding:3px']     1\n",
       "['navigation', ['navbox'], 'John_McCarthy', 'padding:3px']                                                                                                                                                                                 1\n",
       "['navigation', ['navbox'], 'Philosophy_of_science', 'padding:3px']                                                                                                                                                                         1\n",
       "['navigation', 'Portals', ['noprint', 'portal', 'plainlist', 'tright']]                                                                                                                                                                    1\n",
       "[['reflist', 'columns', 'references-column-width'], '-moz-column-width: 30em; -webkit-column-width: 30em; column-width: 30em; list-style-type: decimal;']                                                                                  1\n",
       "Name: attrs, dtype: int64"
      ]
     },
     "execution_count": 42,
     "metadata": {},
     "output_type": "execute_result"
    }
   ],
   "source": [
    "low_relative_listings_unnecessary_div = low_relative_listings_unnecessary.loc[low_relative_listings_unnecessary['name'] == 'div']\n",
    "low_relative_listings_unnecessary_div.attrs.value_counts()"
   ]
  },
  {
   "cell_type": "markdown",
   "metadata": {},
   "source": [
    "From the above enumeration of attributes of the div tags, we can see that these all tags will be correctly filtered out by virtue of existent features in place."
   ]
  },
  {
   "cell_type": "code",
   "execution_count": 43,
   "metadata": {},
   "outputs": [
    {
     "data": {
      "text/plain": [
       "[['mw-editsection']]      108\n",
       "[['mwe-math-element']]      1\n",
       "Name: attrs, dtype: int64"
      ]
     },
     "execution_count": 43,
     "metadata": {},
     "output_type": "execute_result"
    }
   ],
   "source": [
    "low_relative_listings_unnecessary_span = low_relative_listings_unnecessary.loc[low_relative_listings_unnecessary['name'] == 'span']\n",
    "low_relative_listings_unnecessary_span.attrs.value_counts()"
   ]
  },
  {
   "cell_type": "markdown",
   "metadata": {},
   "source": [
    "The first kind of spans will be filtered out by virtue of addition of 'editsection' in __red_flag_classes__. For the math element span, let's look at if height and width feature can bring forth any discrimination."
   ]
  },
  {
   "cell_type": "code",
   "execution_count": 44,
   "metadata": {},
   "outputs": [
    {
     "name": "stdout",
     "output_type": "stream",
     "text": [
      "Height-Width difference: 2021   -726\n",
      "Name: height_width_diff, dtype: int64\n"
     ]
    }
   ],
   "source": [
    "low_relative_listings_unnecessary_span_math = low_relative_listings_unnecessary_span.loc[low_relative_listings_unnecessary_span['attrs'] == \"[['mwe-math-element']]\"]\n",
    "print('Height-Width difference: {}'.format(low_relative_listings_unnecessary_span_math['height_width_diff']))"
   ]
  },
  {
   "cell_type": "markdown",
   "metadata": {},
   "source": [
    "It can be seen that __height_width_diff__ feature does provide a discriminating power for the span element."
   ]
  },
  {
   "cell_type": "markdown",
   "metadata": {},
   "source": [
    "Coming to the header tags - it might be the case that the results are presenting those header cases which are at the bottom - Reference, See Also, External Links etc. Lets us see to confirm our guess."
   ]
  },
  {
   "cell_type": "code",
   "execution_count": 34,
   "metadata": {},
   "outputs": [
    {
     "name": "stdout",
     "output_type": "stream",
     "text": [
      "Relative y_coord: [0.568733800518383, 0.575597580877412, 0.583373332053374, 0.675022381378693, 0.7427391248225121, 0.8939953921474509, 0.902443121820102, 0.9054910242872231, 0.9263585904220991, 0.944494643087647, 0.9659210905251031, 0.985744456177402]\n"
     ]
    }
   ],
   "source": [
    "low_relative_listings_unnecessary_header = low_relative_listings_unnecessary.loc[(low_relative_listings_unnecessary['name'] == 'h2') | (low_relative_listings_unnecessary['name'] == 'h3')]\n",
    "print('Relative y_coord: {}'.format(sorted(list(low_relative_listings_unnecessary_header.relative_y_coord))))"
   ]
  },
  {
   "cell_type": "markdown",
   "metadata": {},
   "source": [
    "From an above distribution plot - visualizing the distribution of header tags for unnecessary label, we can infer that most of the above headers, if not all, are those headers.\n",
    "\n",
    "- __One question still looms - How do you deal with these headers? Would they or won't they cause issues in the final model?__"
   ]
  },
  {
   "cell_type": "code",
   "execution_count": 38,
   "metadata": {},
   "outputs": [
    {
     "data": {
      "text/plain": [
       "8       0\n",
       "9       0\n",
       "1061    0\n",
       "1062    0\n",
       "4370    0\n",
       "4371    0\n",
       "Name: height_width_diff, dtype: int64"
      ]
     },
     "execution_count": 38,
     "metadata": {},
     "output_type": "execute_result"
    }
   ],
   "source": [
    "low_relative_listings_unnecessary_a = low_relative_listings_unnecessary.loc[low_relative_listings_unnecessary['name'] == 'a']\n",
    "low_relative_listings_unnecessary_a.height_width_diff"
   ]
  },
  {
   "cell_type": "markdown",
   "metadata": {},
   "source": [
    "These hyperlinks could be discriminated on the basis of __height_width_diff__ feature."
   ]
  },
  {
   "cell_type": "code",
   "execution_count": 41,
   "metadata": {},
   "outputs": [
    {
     "data": {
      "text/plain": [
       "2636    -861\n",
       "2655    -908\n",
       "3902    -862\n",
       "13700   -795\n",
       "Name: height_width_diff, dtype: int64"
      ]
     },
     "execution_count": 41,
     "metadata": {},
     "output_type": "execute_result"
    }
   ],
   "source": [
    "low_relative_listings_unnecessary_ul = low_relative_listings_unnecessary.loc[low_relative_listings_unnecessary['name'] == 'ul']\n",
    "low_relative_listings_unnecessary_ul.height_width_diff"
   ]
  },
  {
   "cell_type": "markdown",
   "metadata": {},
   "source": [
    "These ul tags could be discriminated on the basis of __height_width_diff__ feature."
   ]
  },
  {
   "cell_type": "code",
   "execution_count": 44,
   "metadata": {},
   "outputs": [
    {
     "data": {
      "text/plain": [
       "3820    -909\n",
       "4598    -931\n",
       "7010    -931\n",
       "7457    -865\n",
       "12519   -909\n",
       "Name: height_width_diff, dtype: int64"
      ]
     },
     "execution_count": 44,
     "metadata": {},
     "output_type": "execute_result"
    }
   ],
   "source": [
    "low_relative_listings_unnecessary_style = low_relative_listings_unnecessary.loc[low_relative_listings_unnecessary['name'] == 'style']\n",
    "low_relative_listings_unnecessary_style.height_width_diff"
   ]
  },
  {
   "cell_type": "markdown",
   "metadata": {},
   "source": [
    "These style tags also could be discriminated on the basis of __height_width_diff__ feature."
   ]
  },
  {
   "cell_type": "markdown",
   "metadata": {},
   "source": [
    "#### Let us now look at relative_hyperlinks feature and see if it provides any new information."
   ]
  },
  {
   "cell_type": "code",
   "execution_count": 4,
   "metadata": {},
   "outputs": [],
   "source": [
    "relative_hyperlinks_unnecessary = data.loc[data['label'] == 0, 'relative_hyperlinks'].values\n",
    "relative_hyperlinks_necessary = data.loc[data['label'] == 1, 'relative_hyperlinks'].values"
   ]
  },
  {
   "cell_type": "code",
   "execution_count": 21,
   "metadata": {},
   "outputs": [
    {
     "data": {
      "text/plain": [
       "<matplotlib.legend.Legend at 0x1a23c0cc90>"
      ]
     },
     "execution_count": 21,
     "metadata": {},
     "output_type": "execute_result"
    },
    {
     "data": {
      "image/png": "[encoded data removed]",
      "text/plain": [
       "<Figure size 432x288 with 1 Axes>"
      ]
     },
     "metadata": {
      "needs_background": "light"
     },
     "output_type": "display_data"
    }
   ],
   "source": [
    "plt.ylim([0,7])\n",
    "sns.distplot(relative_hyperlinks_necessary, label = 'Necessary tags')\n",
    "sns.distplot(relative_hyperlinks_unnecessary, label ='Unnecessary tags')\n",
    "plt.legend()"
   ]
  },
  {
   "cell_type": "markdown",
   "metadata": {},
   "source": [
    "It can be seen that __relative_hyperlinks__ doesn't add much discriminating power between necessary and unnecessary tags. \n",
    "Moreover, the question looms if the discrimination added by this is already added by __relative_listings__."
   ]
  },
  {
   "cell_type": "code",
   "execution_count": 33,
   "metadata": {},
   "outputs": [
    {
     "data": {
      "text/plain": [
       "count    33.0\n",
       "mean     10.0\n",
       "std       0.0\n",
       "min      10.0\n",
       "25%      10.0\n",
       "50%      10.0\n",
       "75%      10.0\n",
       "max      10.0\n",
       "Name: relative_listings, dtype: float64"
      ]
     },
     "execution_count": 33,
     "metadata": {},
     "output_type": "execute_result"
    }
   ],
   "source": [
    "high_relative_hyperlinks_unnecessary = data.loc[(data['label'] == 0) & (data['relative_hyperlinks'] > 8)]\n",
    "high_relative_hyperlinks_unnecessary['relative_listings'].describe()"
   ]
  },
  {
   "cell_type": "markdown",
   "metadata": {},
   "source": [
    "Evidently, the information added by the __relative_hyperlinks__ is no more than __relative_hyperlinks__. Rather the overlap it provides with necessary tags along with the variance in necessary tags might prove negative for the model."
   ]
  },
  {
   "cell_type": "markdown",
   "metadata": {},
   "source": [
    "Let's look at __relative_table_elements__ feature now."
   ]
  },
  {
   "cell_type": "code",
   "execution_count": 22,
   "metadata": {},
   "outputs": [],
   "source": [
    "relative_table_unnecessary = data.loc[data['label'] == 0, 'relative_table_elements'].values\n",
    "relative_table_necessary = data.loc[data['label'] == 1, 'relative_table_elements'].values"
   ]
  },
  {
   "cell_type": "code",
   "execution_count": 30,
   "metadata": {},
   "outputs": [
    {
     "name": "stdout",
     "output_type": "stream",
     "text": [
      "Characteristics of necessary tags-\n",
      " min: 0.0, max: 0.0109409190371991\n",
      "Characteristics of unnecessary tags-\n",
      " min: 0.0, max: 100.0\n"
     ]
    },
    {
     "data": {
      "image/png": "[encoded data removed]",
      "text/plain": [
       "<Figure size 432x288 with 1 Axes>"
      ]
     },
     "metadata": {
      "needs_background": "light"
     },
     "output_type": "display_data"
    }
   ],
   "source": [
    "sns.distplot(relative_table_necessary, label = 'Necessary tags')\n",
    "sns.distplot(relative_table_unnecessary, label = 'Unnecessary tags')\n",
    "plt.ylim([0,0.5])\n",
    "plt.legend()\n",
    "\n",
    "print('Characteristics of necessary tags-\\n min: {}, max: {}'.format(min(relative_table_necessary), max(relative_table_necessary)))\n",
    "print('Characteristics of unnecessary tags-\\n min: {}, max: {}'.format(min(relative_table_unnecessary), max(relative_table_unnecessary)))"
   ]
  },
  {
   "cell_type": "code",
   "execution_count": 31,
   "metadata": {},
   "outputs": [
    {
     "name": "stdout",
     "output_type": "stream",
     "text": [
      "Percentage Overlap: 0.9426751592356688\n"
     ]
    }
   ],
   "source": [
    "# Let us look at the percentage overlap\n",
    "low_relative_table_unnecessary = [val for val in relative_table_unnecessary if val < max(relative_table_necessary)]\n",
    "\n",
    "print('Percentage Overlap: {}'.format(len(low_relative_table_unnecessary)/len(relative_table_unnecessary)))"
   ]
  },
  {
   "cell_type": "code",
   "execution_count": 34,
   "metadata": {},
   "outputs": [
    {
     "data": {
      "text/plain": [
       "count    942.000000\n",
       "mean       0.367254\n",
       "std        1.838512\n",
       "min        0.000000\n",
       "25%        0.000000\n",
       "50%        0.000000\n",
       "75%        0.000000\n",
       "max       10.000000\n",
       "Name: relative_listings, dtype: float64"
      ]
     },
     "execution_count": 34,
     "metadata": {},
     "output_type": "execute_result"
    }
   ],
   "source": [
    "# Let's look it adds any new information\n",
    "high_relative_table_unnecessary = data.loc[data['label'] == 0 & (data['relative_table_elements'] >80)]\n",
    "high_relative_table_unnecessary['relative_listings'].describe()"
   ]
  },
  {
   "cell_type": "markdown",
   "metadata": {},
   "source": [
    "This does add new information, which is normal, as there are many tables which aren't in the footer zones (where high listings are usually found).\n",
    "\n",
    "Let's examine further on the low valued unnecessary on whether they are discriminated by some other mechanism."
   ]
  },
  {
   "cell_type": "code",
   "execution_count": 48,
   "metadata": {},
   "outputs": [
    {
     "data": {
      "text/plain": [
       "sup      634\n",
       "div      134\n",
       "span     109\n",
       "h2         9\n",
       "a          6\n",
       "style      5\n",
       "table      5\n",
       "ul         4\n",
       "h3         3\n",
       "Name: name, dtype: int64"
      ]
     },
     "execution_count": 48,
     "metadata": {},
     "output_type": "execute_result"
    }
   ],
   "source": [
    "low_relative_table_unnecessary = data.loc[(data['label'] == 0) & (data['relative_table_elements'] < 1)]\n",
    "low_relative_table_unnecessary['name'].value_counts()"
   ]
  },
  {
   "cell_type": "markdown",
   "metadata": {},
   "source": [
    "A lot of these are what we have encountered before. One interesting case is - table! "
   ]
  },
  {
   "cell_type": "code",
   "execution_count": 45,
   "metadata": {},
   "outputs": [
    {
     "data": {
      "text/html": [
       "<div>\n",
       "<style scoped>\n",
       "    .dataframe tbody tr th:only-of-type {\n",
       "        vertical-align: middle;\n",
       "    }\n",
       "\n",
       "    .dataframe tbody tr th {\n",
       "        vertical-align: top;\n",
       "    }\n",
       "\n",
       "    .dataframe thead th {\n",
       "        text-align: right;\n",
       "    }\n",
       "</style>\n",
       "<table border=\"1\" class=\"dataframe\">\n",
       "  <thead>\n",
       "    <tr style=\"text-align: right;\">\n",
       "      <th></th>\n",
       "      <th>tag_header</th>\n",
       "      <th>tag_para</th>\n",
       "      <th>tag_formatting</th>\n",
       "      <th>word_count</th>\n",
       "      <th>interacting_span_tag</th>\n",
       "      <th>relative_x_coord</th>\n",
       "      <th>relative_y_coord</th>\n",
       "      <th>relative_listings</th>\n",
       "      <th>relative_hyperlinks</th>\n",
       "      <th>tag_img</th>\n",
       "      <th>...</th>\n",
       "      <th>tag_table</th>\n",
       "      <th>tag_sup</th>\n",
       "      <th>tag_sup_child</th>\n",
       "      <th>tag_tab_elem</th>\n",
       "      <th>red_flag_id</th>\n",
       "      <th>relative_table_elements</th>\n",
       "      <th>height_width_diff</th>\n",
       "      <th>name</th>\n",
       "      <th>attrs</th>\n",
       "      <th>label</th>\n",
       "    </tr>\n",
       "  </thead>\n",
       "  <tbody>\n",
       "    <tr>\n",
       "      <td>15</td>\n",
       "      <td>NO</td>\n",
       "      <td>NO</td>\n",
       "      <td>NO</td>\n",
       "      <td>196</td>\n",
       "      <td>NO</td>\n",
       "      <td>0.883789</td>\n",
       "      <td>0.062966</td>\n",
       "      <td>0.418367</td>\n",
       "      <td>0.484694</td>\n",
       "      <td>NO</td>\n",
       "      <td>...</td>\n",
       "      <td>YES</td>\n",
       "      <td>NO</td>\n",
       "      <td>NO</td>\n",
       "      <td>NO</td>\n",
       "      <td>NO</td>\n",
       "      <td>0.153061</td>\n",
       "      <td>208</td>\n",
       "      <td>table</td>\n",
       "      <td>[['vertical-navbox', 'nowraplinks'], 'float:ri...</td>\n",
       "      <td>0.0</td>\n",
       "    </tr>\n",
       "    <tr>\n",
       "      <td>1070</td>\n",
       "      <td>NO</td>\n",
       "      <td>NO</td>\n",
       "      <td>NO</td>\n",
       "      <td>196</td>\n",
       "      <td>NO</td>\n",
       "      <td>0.883789</td>\n",
       "      <td>0.015038</td>\n",
       "      <td>0.418367</td>\n",
       "      <td>0.479592</td>\n",
       "      <td>NO</td>\n",
       "      <td>...</td>\n",
       "      <td>YES</td>\n",
       "      <td>NO</td>\n",
       "      <td>NO</td>\n",
       "      <td>NO</td>\n",
       "      <td>NO</td>\n",
       "      <td>0.153061</td>\n",
       "      <td>208</td>\n",
       "      <td>table</td>\n",
       "      <td>[['vertical-navbox', 'nowraplinks'], 'float:ri...</td>\n",
       "      <td>0.0</td>\n",
       "    </tr>\n",
       "  </tbody>\n",
       "</table>\n",
       "<p>2 rows × 22 columns</p>\n",
       "</div>"
      ],
      "text/plain": [
       "     tag_header tag_para tag_formatting  word_count interacting_span_tag  \\\n",
       "15           NO       NO             NO         196                   NO   \n",
       "1070         NO       NO             NO         196                   NO   \n",
       "\n",
       "      relative_x_coord  relative_y_coord  relative_listings  \\\n",
       "15            0.883789          0.062966           0.418367   \n",
       "1070          0.883789          0.015038           0.418367   \n",
       "\n",
       "      relative_hyperlinks tag_img  ... tag_table tag_sup tag_sup_child  \\\n",
       "15               0.484694      NO  ...       YES      NO            NO   \n",
       "1070             0.479592      NO  ...       YES      NO            NO   \n",
       "\n",
       "     tag_tab_elem red_flag_id relative_table_elements height_width_diff  \\\n",
       "15             NO          NO                0.153061               208   \n",
       "1070           NO          NO                0.153061               208   \n",
       "\n",
       "       name                                              attrs label  \n",
       "15    table  [['vertical-navbox', 'nowraplinks'], 'float:ri...   0.0  \n",
       "1070  table  [['vertical-navbox', 'nowraplinks'], 'float:ri...   0.0  \n",
       "\n",
       "[2 rows x 22 columns]"
      ]
     },
     "execution_count": 45,
     "metadata": {},
     "output_type": "execute_result"
    }
   ],
   "source": [
    "low_relative_table_unnecessary_table = low_relative_table_unnecessary.loc[low_relative_table_unnecessary['name'] == 'table']\n",
    "low_relative_table_unnecessary_table.head(2)"
   ]
  },
  {
   "cell_type": "markdown",
   "metadata": {},
   "source": [
    "The cause behind these tables having low values for __relative_table_elements__ is the high value for __word_count__. This can get fixed by introducing another condition for multiplier for word_count. However, it might not affect the model much, as __tag_table__ is present as one discriminating factor. "
   ]
  },
  {
   "cell_type": "markdown",
   "metadata": {},
   "source": [
    "#### Let's now look at the information provided by _height_width_diff_ feature."
   ]
  },
  {
   "cell_type": "code",
   "execution_count": 59,
   "metadata": {},
   "outputs": [],
   "source": [
    "diff_necessary = data.loc[data['label'] == 1, 'height_width_diff']\n",
    "diff_unnecessary = data.loc[data['label'] == 0, 'height_width_diff']"
   ]
  },
  {
   "cell_type": "code",
   "execution_count": 61,
   "metadata": {},
   "outputs": [
    {
     "data": {
      "image/png": "[encoded data removed]",
      "text/plain": [
       "<Figure size 432x288 with 1 Axes>"
      ]
     },
     "metadata": {
      "needs_background": "light"
     },
     "output_type": "display_data"
    },
    {
     "name": "stdout",
     "output_type": "stream",
     "text": [
      "Characteristics of necessary: \n",
      "count     1619.000000\n",
      "mean      -191.715256\n",
      "std       1901.920842\n",
      "min       -953.000000\n",
      "25%       -693.500000\n",
      "50%       -100.000000\n",
      "75%        -60.000000\n",
      "max      40602.000000\n",
      "Name: height_width_diff, dtype: float64\n",
      "\n",
      "Characteristics of unnecessary: \n",
      "count      942.000000\n",
      "mean      -123.067941\n",
      "std        511.253684\n",
      "min       -975.000000\n",
      "25%        -20.000000\n",
      "50%        -11.000000\n",
      "75%         -5.000000\n",
      "max      11929.000000\n",
      "Name: height_width_diff, dtype: float64\n"
     ]
    }
   ],
   "source": [
    "sns.distplot(diff_necessary, label = 'Necessary tags')\n",
    "sns.distplot(diff_unnecessary, label = 'Unnecessary tags')\n",
    "plt.xlim([-1000,1000])\n",
    "plt.legend()\n",
    "plt.show()\n",
    "\n",
    "print('Characteristics of necessary: \\n{}\\n'.format(diff_necessary.describe()))\n",
    "print('Characteristics of unnecessary: \\n{}'.format(diff_unnecessary.describe()))"
   ]
  },
  {
   "cell_type": "markdown",
   "metadata": {},
   "source": [
    "The problem - Theoretically necessary should not have negative values, but is it because necessary tags have such aspect ratios that width is larger than height?\n",
    "\n",
    "May be it would be better to take the height and width separately, or should you take aspect ratio? Let's try taking both and see which turns out better."
   ]
  },
  {
   "cell_type": "markdown",
   "metadata": {},
   "source": [
    "#### Moving on to next exploration areas - _tag_sup_child_ and _tag_tab_elem_. Are they required?"
   ]
  },
  {
   "cell_type": "code",
   "execution_count": 63,
   "metadata": {},
   "outputs": [
    {
     "data": {
      "text/plain": [
       "count    0.0\n",
       "mean     NaN\n",
       "std      NaN\n",
       "min      NaN\n",
       "25%      NaN\n",
       "50%      NaN\n",
       "75%      NaN\n",
       "max      NaN\n",
       "Name: label, dtype: float64"
      ]
     },
     "execution_count": 63,
     "metadata": {},
     "output_type": "execute_result"
    }
   ],
   "source": [
    "child_elems = data.loc[(data['tag_sup_child'] == 'YES') | (data['tag_tab_elem'] == 'YES')]\n",
    "child_elems['label'].describe()"
   ]
  },
  {
   "cell_type": "markdown",
   "metadata": {},
   "source": [
    "As in the new perspective, we have abandoned the need to label the child of unnecessary elements, hence features as the above two become extremely unnecessary. Hence it is better to remove __tag_sup_child__ and __tag_tab_elem__."
   ]
  },
  {
   "cell_type": "markdown",
   "metadata": {},
   "source": [
    "Most of the elements at the bottom part are unnecessary. Let's look if __relative_y_coord__ adds sufficient discriminating power to distinguish them without adding noise to required p or header tags."
   ]
  },
  {
   "cell_type": "code",
   "execution_count": 64,
   "metadata": {},
   "outputs": [],
   "source": [
    "y_coord_unnecessary = data.loc[data['label'] == 0, 'relative_y_coord'].values\n",
    "y_coord_necessary = data.loc[data['label'] == 1, 'relative_y_coord'].values"
   ]
  },
  {
   "cell_type": "code",
   "execution_count": 66,
   "metadata": {},
   "outputs": [
    {
     "name": "stdout",
     "output_type": "stream",
     "text": [
      "Characteristics of necessary: min - 0.00239992320245752, max - 0.736349554666322\n",
      "Characteristics of unnecessary: min - 0.0, max - 1.01611459265891\n"
     ]
    },
    {
     "data": {
      "image/png": "[encoded data removed]",
      "text/plain": [
       "<Figure size 576x432 with 1 Axes>"
      ]
     },
     "metadata": {
      "needs_background": "light"
     },
     "output_type": "display_data"
    }
   ],
   "source": [
    "plt.figure(figsize=(8,6))\n",
    "sns.distplot(y_coord_necessary, label = 'Necessary tags')\n",
    "sns.distplot(y_coord_unnecessary, label = 'Unnecessary tags')\n",
    "plt.legend()\n",
    "\n",
    "print('Characteristics of necessary: min - {}, max - {}'.format(min(y_coord_necessary), max(y_coord_necessary)))\n",
    "print('Characteristics of unnecessary: min - {}, max - {}'.format(min(y_coord_unnecessary), max(y_coord_unnecessary)))"
   ]
  },
  {
   "cell_type": "code",
   "execution_count": 18,
   "metadata": {},
   "outputs": [
    {
     "name": "stdout",
     "output_type": "stream",
     "text": [
      "Fraction Necessary: 0.16, Total bottom items labelled: 50\n",
      "Unnecessary tags: \n",
      "div      25\n",
      "h2        5\n",
      "ul        4\n",
      "span      4\n",
      "h3        3\n",
      "table     1\n",
      "Name: name, dtype: int64\n",
      "\n",
      "Necessary tags: \n",
      "span    4\n",
      "h2      2\n",
      "h3      2\n",
      "Name: name, dtype: int64\n"
     ]
    }
   ],
   "source": [
    "bottom_items = data.loc[data['relative_y_coord'] > 0.7]\n",
    "fraction_necessary = (bottom_items.loc[bottom_items['label'] == 1].shape[0])/bottom_items.shape[0]\n",
    "print('Fraction Necessary: {}, Total bottom items labelled: {}'.format(fraction_necessary, bottom_items.shape[0]))\n",
    "\n",
    "print('Unnecessary tags: \\n{}\\n'.format(bottom_items.loc[bottom_items['label'] == 0, 'name'].value_counts()))\n",
    "print('Necessary tags: \\n{}'.format(bottom_items.loc[bottom_items['label'] == 1, 'name'].value_counts()))"
   ]
  },
  {
   "cell_type": "code",
   "execution_count": 19,
   "metadata": {},
   "outputs": [
    {
     "name": "stdout",
     "output_type": "stream",
     "text": [
      "Fraction Necessary: 0.6190476190476191, Total bottom items labelled: 504\n",
      "Unnecessary tags: \n",
      "sup      89\n",
      "div      53\n",
      "span     33\n",
      "h2        9\n",
      "ul        4\n",
      "h3        3\n",
      "table     1\n",
      "Name: name, dtype: int64\n",
      "\n",
      "Necessary tags: \n",
      "a       181\n",
      "p        45\n",
      "span     31\n",
      "i        24\n",
      "h4       15\n",
      "h2        9\n",
      "h3        7\n",
      "Name: name, dtype: int64\n"
     ]
    }
   ],
   "source": [
    "bottom_items = data.loc[data['relative_y_coord'] > 0.5]\n",
    "fraction_necessary = (bottom_items.loc[bottom_items['label'] == 1].shape[0])/bottom_items.shape[0]\n",
    "print('Fraction Necessary: {}, Total bottom items labelled: {}'.format(fraction_necessary, bottom_items.shape[0]))\n",
    "\n",
    "print('Unnecessary tags: \\n{}\\n'.format(bottom_items.loc[bottom_items['label'] == 0, 'name'].value_counts()))\n",
    "print('Necessary tags: \\n{}'.format(bottom_items.loc[bottom_items['label'] == 1, 'name'].value_counts()))"
   ]
  },
  {
   "cell_type": "markdown",
   "metadata": {},
   "source": [
    "You can see that by lifting the threshold to a higher location, we get some more headers (4 h2) which are unnecessary - either references or something else. \n",
    "\n",
    "Along with unnecessary headers, there are also some necessary ones at the bottom part. Try out a model without any modification for this and then try out with the following modification\n",
    "       \n",
    "        Contains the text 'Reference' or 'See Also' or 'Further reading' or 'External links' in h2."
   ]
  },
  {
   "cell_type": "code",
   "execution_count": 10,
   "metadata": {},
   "outputs": [],
   "source": [
    "dataset_v3 = pd.read_csv('Second Iteration Data/dataset_v3.csv')\n",
    "data = dataset_v3.loc[~dataset_v3['label'].isna()]"
   ]
  },
  {
   "cell_type": "code",
   "execution_count": 11,
   "metadata": {},
   "outputs": [
    {
     "data": {
      "text/html": [
       "<div>\n",
       "<style scoped>\n",
       "    .dataframe tbody tr th:only-of-type {\n",
       "        vertical-align: middle;\n",
       "    }\n",
       "\n",
       "    .dataframe tbody tr th {\n",
       "        vertical-align: top;\n",
       "    }\n",
       "\n",
       "    .dataframe thead th {\n",
       "        text-align: right;\n",
       "    }\n",
       "</style>\n",
       "<table border=\"1\" class=\"dataframe\">\n",
       "  <thead>\n",
       "    <tr style=\"text-align: right;\">\n",
       "      <th></th>\n",
       "      <th>tag_header</th>\n",
       "      <th>tag_para</th>\n",
       "      <th>tag_formatting</th>\n",
       "      <th>word_count</th>\n",
       "      <th>interacting_span_tag</th>\n",
       "      <th>relative_x_coord</th>\n",
       "      <th>relative_y_coord</th>\n",
       "      <th>relative_listings</th>\n",
       "      <th>relative_hyperlinks</th>\n",
       "      <th>tag_img</th>\n",
       "      <th>...</th>\n",
       "      <th>tag_unnecessary_header</th>\n",
       "      <th>red_flag_id</th>\n",
       "      <th>relative_table_elements</th>\n",
       "      <th>height_width_diff</th>\n",
       "      <th>height</th>\n",
       "      <th>width</th>\n",
       "      <th>aspect_ratio</th>\n",
       "      <th>name</th>\n",
       "      <th>attrs</th>\n",
       "      <th>label</th>\n",
       "    </tr>\n",
       "  </thead>\n",
       "  <tbody>\n",
       "    <tr>\n",
       "      <td>0</td>\n",
       "      <td>NO</td>\n",
       "      <td>NO</td>\n",
       "      <td>NO</td>\n",
       "      <td>0</td>\n",
       "      <td>NO</td>\n",
       "      <td>0.196289</td>\n",
       "      <td>0.029842</td>\n",
       "      <td>NaN</td>\n",
       "      <td>10.0</td>\n",
       "      <td>NO</td>\n",
       "      <td>...</td>\n",
       "      <td>NO</td>\n",
       "      <td>NO</td>\n",
       "      <td>100.0</td>\n",
       "      <td>0</td>\n",
       "      <td>0</td>\n",
       "      <td>0</td>\n",
       "      <td>NaN</td>\n",
       "      <td>a</td>\n",
       "      <td>['top']</td>\n",
       "      <td>0.0</td>\n",
       "    </tr>\n",
       "  </tbody>\n",
       "</table>\n",
       "<p>1 rows × 25 columns</p>\n",
       "</div>"
      ],
      "text/plain": [
       "  tag_header tag_para tag_formatting  word_count interacting_span_tag  \\\n",
       "0         NO       NO             NO           0                   NO   \n",
       "\n",
       "   relative_x_coord  relative_y_coord  relative_listings  relative_hyperlinks  \\\n",
       "0          0.196289          0.029842                NaN                 10.0   \n",
       "\n",
       "  tag_img  ... tag_unnecessary_header red_flag_id relative_table_elements  \\\n",
       "0      NO  ...                     NO          NO                   100.0   \n",
       "\n",
       "  height_width_diff height width aspect_ratio  name    attrs  label  \n",
       "0                 0      0     0          NaN     a  ['top']    0.0  \n",
       "\n",
       "[1 rows x 25 columns]"
      ]
     },
     "execution_count": 11,
     "metadata": {},
     "output_type": "execute_result"
    }
   ],
   "source": [
    "data.head(1)"
   ]
  },
  {
   "cell_type": "markdown",
   "metadata": {},
   "source": [
    "Let us look at the discriminating power of the newly defined __relative_listings__."
   ]
  },
  {
   "cell_type": "code",
   "execution_count": 17,
   "metadata": {},
   "outputs": [
    {
     "name": "stdout",
     "output_type": "stream",
     "text": [
      "Characteristics of unnecessary tags: min - 0.0, max - 1.0\n",
      "Characteristics of necessary tags: min - -2.819923372, max - 2.642857143\n"
     ]
    },
    {
     "data": {
      "text/plain": [
       "<matplotlib.legend.Legend at 0x1a197b9510>"
      ]
     },
     "execution_count": 17,
     "metadata": {},
     "output_type": "execute_result"
    },
    {
     "data": {
      "image/png": "[encoded data removed]",
      "text/plain": [
       "<Figure size 432x288 with 1 Axes>"
      ]
     },
     "metadata": {
      "needs_background": "light"
     },
     "output_type": "display_data"
    }
   ],
   "source": [
    "relative_listings = data.loc[~data['relative_listings'].isna()]\n",
    "necessary_relative_listings = relative_listings.loc[relative_listings['label'] == 0, 'relative_listings'].values\n",
    "unnecessary_relative_listings = relative_listings.loc[relative_listings['label'] == 1, 'relative_listings'].values\n",
    "\n",
    "print('Characteristics of unnecessary tags: min - {}, max - {}'.format(min(unnecessary_relative_listings), max(unnecessary_relative_listings)))\n",
    "print('Characteristics of necessary tags: min - {}, max - {}'.format(min(necessary_relative_listings), max(necessary_relative_listings)))\n",
    "\n",
    "sns.distplot(necessary_relative_listings, label = 'Necessary tags')\n",
    "sns.distplot(unnecessary_relative_listings, label = 'Unnecessary tags')\n",
    "plt.legend()"
   ]
  },
  {
   "cell_type": "markdown",
   "metadata": {},
   "source": [
    "## Exploration on data after 4th iteration"
   ]
  },
  {
   "cell_type": "code",
   "execution_count": 4,
   "metadata": {},
   "outputs": [
    {
     "data": {
      "text/html": [
       "<div>\n",
       "<style scoped>\n",
       "    .dataframe tbody tr th:only-of-type {\n",
       "        vertical-align: middle;\n",
       "    }\n",
       "\n",
       "    .dataframe tbody tr th {\n",
       "        vertical-align: top;\n",
       "    }\n",
       "\n",
       "    .dataframe thead th {\n",
       "        text-align: right;\n",
       "    }\n",
       "</style>\n",
       "<table border=\"1\" class=\"dataframe\">\n",
       "  <thead>\n",
       "    <tr style=\"text-align: right;\">\n",
       "      <th></th>\n",
       "      <th>tag_header</th>\n",
       "      <th>tag_para</th>\n",
       "      <th>tag_formatting</th>\n",
       "      <th>word_count</th>\n",
       "      <th>interacting_span_tag</th>\n",
       "      <th>relative_x_coord</th>\n",
       "      <th>relative_y_coord</th>\n",
       "      <th>relative_listings</th>\n",
       "      <th>relative_hyperlinks</th>\n",
       "      <th>tag_img</th>\n",
       "      <th>...</th>\n",
       "      <th>tag_unnecessary_header</th>\n",
       "      <th>red_flag_id</th>\n",
       "      <th>relative_table_elements</th>\n",
       "      <th>height_width_diff</th>\n",
       "      <th>height</th>\n",
       "      <th>width</th>\n",
       "      <th>aspect_ratio</th>\n",
       "      <th>name</th>\n",
       "      <th>attrs</th>\n",
       "      <th>label</th>\n",
       "    </tr>\n",
       "  </thead>\n",
       "  <tbody>\n",
       "    <tr>\n",
       "      <td>0</td>\n",
       "      <td>NO</td>\n",
       "      <td>NO</td>\n",
       "      <td>NO</td>\n",
       "      <td>0</td>\n",
       "      <td>NO</td>\n",
       "      <td>0.196289</td>\n",
       "      <td>0.028281</td>\n",
       "      <td>NaN</td>\n",
       "      <td>10.0</td>\n",
       "      <td>NO</td>\n",
       "      <td>...</td>\n",
       "      <td>NO</td>\n",
       "      <td>NO</td>\n",
       "      <td>NaN</td>\n",
       "      <td>0</td>\n",
       "      <td>0</td>\n",
       "      <td>0</td>\n",
       "      <td>NaN</td>\n",
       "      <td>a</td>\n",
       "      <td>['top']</td>\n",
       "      <td>0.0</td>\n",
       "    </tr>\n",
       "    <tr>\n",
       "      <td>1</td>\n",
       "      <td>NO</td>\n",
       "      <td>NO</td>\n",
       "      <td>NO</td>\n",
       "      <td>0</td>\n",
       "      <td>NO</td>\n",
       "      <td>0.196289</td>\n",
       "      <td>0.028281</td>\n",
       "      <td>NaN</td>\n",
       "      <td>10.0</td>\n",
       "      <td>NO</td>\n",
       "      <td>...</td>\n",
       "      <td>NO</td>\n",
       "      <td>NO</td>\n",
       "      <td>NaN</td>\n",
       "      <td>-814</td>\n",
       "      <td>161</td>\n",
       "      <td>975</td>\n",
       "      <td>6.055901</td>\n",
       "      <td>div</td>\n",
       "      <td>['siteNotice', ['mw-body-content']]</td>\n",
       "      <td>0.0</td>\n",
       "    </tr>\n",
       "  </tbody>\n",
       "</table>\n",
       "<p>2 rows × 25 columns</p>\n",
       "</div>"
      ],
      "text/plain": [
       "  tag_header tag_para tag_formatting  word_count interacting_span_tag  \\\n",
       "0         NO       NO             NO           0                   NO   \n",
       "1         NO       NO             NO           0                   NO   \n",
       "\n",
       "   relative_x_coord  relative_y_coord  relative_listings  relative_hyperlinks  \\\n",
       "0          0.196289          0.028281                NaN                 10.0   \n",
       "1          0.196289          0.028281                NaN                 10.0   \n",
       "\n",
       "  tag_img  ... tag_unnecessary_header red_flag_id relative_table_elements  \\\n",
       "0      NO  ...                     NO          NO                     NaN   \n",
       "1      NO  ...                     NO          NO                     NaN   \n",
       "\n",
       "  height_width_diff height width aspect_ratio  name  \\\n",
       "0                 0      0     0          NaN     a   \n",
       "1              -814    161   975     6.055901   div   \n",
       "\n",
       "                                 attrs  label  \n",
       "0                              ['top']    0.0  \n",
       "1  ['siteNotice', ['mw-body-content']]    0.0  \n",
       "\n",
       "[2 rows x 25 columns]"
      ]
     },
     "execution_count": 4,
     "metadata": {},
     "output_type": "execute_result"
    }
   ],
   "source": [
    "dataset_v4 = pd.read_csv('Second Iteration Data/dataset_v4.csv')\n",
    "data = dataset_v4.loc[~dataset_v4['label'].isna()]\n",
    "data.head(2)"
   ]
  },
  {
   "cell_type": "code",
   "execution_count": 6,
   "metadata": {},
   "outputs": [
    {
     "name": "stdout",
     "output_type": "stream",
     "text": [
      "Characteristics of unnecessary tags: min - 0.0, max - 2.642857143\n",
      "Characteristics of necessary tags: min - 0.0, max - 1.0\n"
     ]
    },
    {
     "data": {
      "text/plain": [
       "<matplotlib.legend.Legend at 0x1a202400d0>"
      ]
     },
     "execution_count": 6,
     "metadata": {},
     "output_type": "execute_result"
    },
    {
     "data": {
      "image/png": "[encoded data removed]",
      "text/plain": [
       "<Figure size 432x288 with 1 Axes>"
      ]
     },
     "metadata": {
      "needs_background": "light"
     },
     "output_type": "display_data"
    }
   ],
   "source": [
    "relative_listings = data.loc[~data['relative_listings'].isna()]\n",
    "necessary_relative_listings = relative_listings.loc[relative_listings['label'] == 1, 'relative_listings'].values\n",
    "unnecessary_relative_listings = relative_listings.loc[relative_listings['label'] == 0, 'relative_listings'].values\n",
    "\n",
    "print('Characteristics of unnecessary tags: min - {}, max - {}'.format(min(unnecessary_relative_listings), max(unnecessary_relative_listings)))\n",
    "print('Characteristics of necessary tags: min - {}, max - {}'.format(min(necessary_relative_listings), max(necessary_relative_listings)))\n",
    "\n",
    "sns.distplot(necessary_relative_listings, label = 'Necessary tags')\n",
    "sns.distplot(unnecessary_relative_listings, label = 'Unnecessary tags')\n",
    "plt.legend()"
   ]
  },
  {
   "cell_type": "markdown",
   "metadata": {},
   "source": [
    "Let's look at necessary tags with high values and unnecessary tags with low values. See if there are any other features which can aid to the discrimination of these observations."
   ]
  },
  {
   "cell_type": "code",
   "execution_count": 7,
   "metadata": {},
   "outputs": [],
   "source": [
    "necessary_relative_listings = relative_listings.loc[relative_listings['label'] == 1]\n",
    "unnecessary_relative_listings = relative_listings.loc[relative_listings['label'] == 0]\n",
    "\n",
    "high_necessary_relative_listings = necessary_relative_listings.loc[necessary_relative_listings['relative_listings'] > 0.2]\n",
    "low_unnecessary_relative_listings = unnecessary_relative_listings.loc[unnecessary_relative_listings['relative_listings'] < 0.2]"
   ]
  },
  {
   "cell_type": "code",
   "execution_count": 12,
   "metadata": {},
   "outputs": [
    {
     "name": "stdout",
     "output_type": "stream",
     "text": [
      "Name: \n",
      "4       div\n",
      "10      div\n",
      "11      div\n",
      "1058    div\n",
      "1064    div\n",
      "1065    div\n",
      "4369    div\n",
      "4384    div\n",
      "4385    div\n",
      "5189     ol\n",
      "6898     ol\n",
      "Name: name, dtype: object\n",
      " Attrs: \n",
      "4                    ['bodyContent', ['mw-body-content']]\n",
      "10      ['mw-content-text', 'en', 'ltr', ['mw-content-...\n",
      "11                                 [['mw-parser-output']]\n",
      "1058                 ['bodyContent', ['mw-body-content']]\n",
      "1064    ['mw-content-text', 'en', 'ltr', ['mw-content-...\n",
      "1065                               [['mw-parser-output']]\n",
      "4369                 ['bodyContent', ['mw-body-content']]\n",
      "4384    ['mw-content-text', 'en', 'ltr', ['mw-content-...\n",
      "4385                               [['mw-parser-output']]\n",
      "5189                                                   []\n",
      "6898                                                   []\n",
      "Name: attrs, dtype: object\n",
      "\n"
     ]
    }
   ],
   "source": [
    "print('Name: \\n{}\\n Attrs: \\n{}\\n'.format(high_necessary_relative_listings['name'], high_necessary_relative_listings['attrs']))"
   ]
  },
  {
   "cell_type": "markdown",
   "metadata": {},
   "source": [
    "There are a total of 11 observations labelled as 1, which have high values of __relative_listings__."
   ]
  },
  {
   "cell_type": "code",
   "execution_count": 16,
   "metadata": {},
   "outputs": [
    {
     "name": "stdout",
     "output_type": "stream",
     "text": [
      "Max y coord of `div` tags: 0.10378959300000001\n",
      "Max y coord of `ol` tags: 0.41670089\n"
     ]
    }
   ],
   "source": [
    "high_necessary_relative_listings_div = high_necessary_relative_listings.loc[high_necessary_relative_listings['name'] == 'div']\n",
    "high_necessary_relative_listings_ol = high_necessary_relative_listings.loc[high_necessary_relative_listings['name'] == 'ol']\n",
    "\n",
    "print('Max y coord of `div` tags: {}'.format(max(high_necessary_relative_listings_div['relative_y_coord'])))\n",
    "print('Max y coord of `ol` tags: {}'.format(max(high_necessary_relative_listings_ol['relative_y_coord'])))"
   ]
  },
  {
   "cell_type": "markdown",
   "metadata": {},
   "source": [
    "The div tags are safe, courtesy of __relative_y_coord__. However, for the ol tags, there might be some issues. Let's fit the model and see the outcome."
   ]
  },
  {
   "cell_type": "code",
   "execution_count": 20,
   "metadata": {},
   "outputs": [
    {
     "data": {
      "text/plain": [
       "sup         635\n",
       "span        109\n",
       "div          92\n",
       "h2            8\n",
       "noscript      3\n",
       "table         2\n",
       "p             1\n",
       "Name: name, dtype: int64"
      ]
     },
     "execution_count": 20,
     "metadata": {},
     "output_type": "execute_result"
    }
   ],
   "source": [
    "low_unnecessary_relative_listings['name'].value_counts()"
   ]
  },
  {
   "cell_type": "markdown",
   "metadata": {},
   "source": [
    "sup, span, noscript and table are understandable. The div tags might be of images and of hatnotes. Let's look at h2 and p tags."
   ]
  },
  {
   "cell_type": "code",
   "execution_count": 21,
   "metadata": {},
   "outputs": [
    {
     "data": {
      "text/plain": [
       "530     0.692025\n",
       "2661    0.741782\n",
       "2689    0.752804\n",
       "3824    0.926454\n",
       "3896    0.944566\n",
       "7471    0.545585\n",
       "7529    0.552156\n",
       "7616    0.559525\n",
       "Name: relative_y_coord, dtype: float64"
      ]
     },
     "execution_count": 21,
     "metadata": {},
     "output_type": "execute_result"
    }
   ],
   "source": [
    "low_unnecessary_relative_listings_h = low_unnecessary_relative_listings.loc[low_unnecessary_relative_listings['name'] == 'h2']\n",
    "low_unnecessary_relative_listings_h['relative_y_coord']"
   ]
  },
  {
   "cell_type": "markdown",
   "metadata": {},
   "source": [
    "These are the headers which are at the bottom part of the page. __relative_y_coord__ will help discriminating them."
   ]
  },
  {
   "cell_type": "code",
   "execution_count": 22,
   "metadata": {},
   "outputs": [
    {
     "data": {
      "text/html": [
       "<div>\n",
       "<style scoped>\n",
       "    .dataframe tbody tr th:only-of-type {\n",
       "        vertical-align: middle;\n",
       "    }\n",
       "\n",
       "    .dataframe tbody tr th {\n",
       "        vertical-align: top;\n",
       "    }\n",
       "\n",
       "    .dataframe thead th {\n",
       "        text-align: right;\n",
       "    }\n",
       "</style>\n",
       "<table border=\"1\" class=\"dataframe\">\n",
       "  <thead>\n",
       "    <tr style=\"text-align: right;\">\n",
       "      <th></th>\n",
       "      <th>tag_header</th>\n",
       "      <th>tag_para</th>\n",
       "      <th>tag_formatting</th>\n",
       "      <th>word_count</th>\n",
       "      <th>interacting_span_tag</th>\n",
       "      <th>relative_x_coord</th>\n",
       "      <th>relative_y_coord</th>\n",
       "      <th>relative_listings</th>\n",
       "      <th>relative_hyperlinks</th>\n",
       "      <th>tag_img</th>\n",
       "      <th>...</th>\n",
       "      <th>tag_unnecessary_header</th>\n",
       "      <th>red_flag_id</th>\n",
       "      <th>relative_table_elements</th>\n",
       "      <th>height_width_diff</th>\n",
       "      <th>height</th>\n",
       "      <th>width</th>\n",
       "      <th>aspect_ratio</th>\n",
       "      <th>name</th>\n",
       "      <th>attrs</th>\n",
       "      <th>label</th>\n",
       "    </tr>\n",
       "  </thead>\n",
       "  <tbody>\n",
       "    <tr>\n",
       "      <td>1603</td>\n",
       "      <td>NO</td>\n",
       "      <td>YES</td>\n",
       "      <td>NO</td>\n",
       "      <td>0</td>\n",
       "      <td>NO</td>\n",
       "      <td>0.196289</td>\n",
       "      <td>0.110674</td>\n",
       "      <td>0.0</td>\n",
       "      <td>10.0</td>\n",
       "      <td>NO</td>\n",
       "      <td>...</td>\n",
       "      <td>NO</td>\n",
       "      <td>NO</td>\n",
       "      <td>0.0</td>\n",
       "      <td>-975</td>\n",
       "      <td>0</td>\n",
       "      <td>975</td>\n",
       "      <td>NaN</td>\n",
       "      <td>p</td>\n",
       "      <td>[]</td>\n",
       "      <td>0.0</td>\n",
       "    </tr>\n",
       "  </tbody>\n",
       "</table>\n",
       "<p>1 rows × 25 columns</p>\n",
       "</div>"
      ],
      "text/plain": [
       "     tag_header tag_para tag_formatting  word_count interacting_span_tag  \\\n",
       "1603         NO      YES             NO           0                   NO   \n",
       "\n",
       "      relative_x_coord  relative_y_coord  relative_listings  \\\n",
       "1603          0.196289          0.110674                0.0   \n",
       "\n",
       "      relative_hyperlinks tag_img  ... tag_unnecessary_header red_flag_id  \\\n",
       "1603                 10.0      NO  ...                     NO          NO   \n",
       "\n",
       "     relative_table_elements height_width_diff height width aspect_ratio  \\\n",
       "1603                     0.0              -975      0   975          NaN   \n",
       "\n",
       "      name  attrs  label  \n",
       "1603     p     []    0.0  \n",
       "\n",
       "[1 rows x 25 columns]"
      ]
     },
     "execution_count": 22,
     "metadata": {},
     "output_type": "execute_result"
    }
   ],
   "source": [
    "low_unnecessary_relative_listings_p = low_unnecessary_relative_listings.loc[low_unnecessary_relative_listings['name'] == 'p']\n",
    "low_unnecessary_relative_listings_p.head(1)"
   ]
  },
  {
   "cell_type": "markdown",
   "metadata": {},
   "source": [
    "This is a rogue paragraph with no word_count and no height. Let's keep it this way. It would be distinguishable."
   ]
  },
  {
   "cell_type": "markdown",
   "metadata": {},
   "source": [
    "#### Let us now look at height, width and aspect ratio data"
   ]
  },
  {
   "cell_type": "code",
   "execution_count": 29,
   "metadata": {},
   "outputs": [
    {
     "data": {
      "image/png": "[encoded data removed]",
      "text/plain": [
       "<Figure size 576x432 with 1 Axes>"
      ]
     },
     "metadata": {
      "needs_background": "light"
     },
     "output_type": "display_data"
    },
    {
     "name": "stdout",
     "output_type": "stream",
     "text": [
      "Height Necessary tags: min - 14, max - 43739\n",
      "Height Unnecessary tags: min - 0, max - 13066\n"
     ]
    },
    {
     "data": {
      "image/png": "[encoded data removed]",
      "text/plain": [
       "<Figure size 576x432 with 1 Axes>"
      ]
     },
     "metadata": {
      "needs_background": "light"
     },
     "output_type": "display_data"
    },
    {
     "name": "stdout",
     "output_type": "stream",
     "text": [
      "Width Necessary tags: min - 8, max - 975\n",
      "Width Unnecessary tags: min - 0, max - 975\n"
     ]
    }
   ],
   "source": [
    "necessary_tags = data.loc[data['label'] == 1]\n",
    "unnecessary_tags = data.loc[data['label'] == 0]\n",
    "\n",
    "plt.figure(figsize = (8,6))\n",
    "sns.distplot(necessary_tags['height'], label = 'Necessary tags')\n",
    "sns.distplot(unnecessary_tags['height'], label = 'Unnecessary tags')\n",
    "plt.legend()\n",
    "plt.ylim([0, 0.0015])\n",
    "plt.xlim([-500, 5000])\n",
    "plt.title('Height')\n",
    "plt.show()\n",
    "\n",
    "print('Height Necessary tags: min - {}, max - {}'.format(min(necessary_tags['height']), max(necessary_tags['height'])))\n",
    "print('Height Unnecessary tags: min - {}, max - {}'.format(min(unnecessary_tags['height']), max(unnecessary_tags['height'])))\n",
    "\n",
    "plt.figure(figsize = (8,6))\n",
    "sns.distplot(necessary_tags['width'], label = 'Necessary tags')\n",
    "sns.distplot(unnecessary_tags['width'], label = 'Unnecessary tags')\n",
    "plt.legend()\n",
    "plt.title('Width')\n",
    "plt.show()\n",
    "\n",
    "print('Width Necessary tags: min - {}, max - {}'.format(min(necessary_tags['width']), max(necessary_tags['width'])))\n",
    "print('Width Unnecessary tags: min - {}, max - {}'.format(min(unnecessary_tags['width']), max(unnecessary_tags['width'])))"
   ]
  },
  {
   "cell_type": "markdown",
   "metadata": {},
   "source": [
    "We will examine the cases of tags with high width and height. Before that let's look at aspect ratio."
   ]
  },
  {
   "cell_type": "code",
   "execution_count": 32,
   "metadata": {},
   "outputs": [
    {
     "data": {
      "image/png": "[encoded data removed]",
      "text/plain": [
       "<Figure size 576x432 with 1 Axes>"
      ]
     },
     "metadata": {
      "needs_background": "light"
     },
     "output_type": "display_data"
    },
    {
     "name": "stdout",
     "output_type": "stream",
     "text": [
      "Aspect Ratio Necessary tags: min - 0.022291319, max - 44.31818182\n",
      "Aspect Ratio Unnecessary tags: min - 0.0, max - 48.75\n"
     ]
    }
   ],
   "source": [
    "necessary_aspect_ratio = data.loc[(data['label'] == 1) & (~data['aspect_ratio'].isna())]\n",
    "unnecessary_aspect_ratio = data.loc[(data['label'] == 0) & (~data['aspect_ratio'].isna())]\n",
    "\n",
    "plt.figure(figsize = (8,6))\n",
    "sns.distplot(necessary_aspect_ratio['aspect_ratio'], label = 'Necessary tags')\n",
    "sns.distplot(unnecessary_aspect_ratio['aspect_ratio'], label = 'Unnecessary tags')\n",
    "plt.legend()\n",
    "plt.title('Aspect Ratio')\n",
    "plt.show()\n",
    "\n",
    "print('Aspect Ratio Necessary tags: min - {}, max - {}'.format(min(necessary_aspect_ratio['aspect_ratio']), max(necessary_aspect_ratio['aspect_ratio'])))\n",
    "print('Aspect Ratio Unnecessary tags: min - {}, max - {}'.format(min(unnecessary_aspect_ratio['aspect_ratio']), max(unnecessary_aspect_ratio['aspect_ratio'])))"
   ]
  },
  {
   "cell_type": "markdown",
   "metadata": {},
   "source": [
    "I feel it would be better to look at the aspect ratio. One problem with that is that we won't be able to apply Logistic Regression directly - because it won't provide a linear correlation with the log odds."
   ]
  },
  {
   "cell_type": "code",
   "execution_count": 37,
   "metadata": {},
   "outputs": [
    {
     "name": "stdout",
     "output_type": "stream",
     "text": [
      "div    71\n",
      "Name: name, dtype: int64\n",
      "['note', ['hatnote', 'navigation-not-searchable']]                                                                      67\n",
      "['siteSub', ['noprint']]                                                                                                 3\n",
      "[['div-col', 'columns', 'column-width'], '-moz-column-width: 18em; -webkit-column-width: 18em; column-width: 18em;']     1\n",
      "Name: attrs, dtype: int64\n"
     ]
    }
   ],
   "source": [
    "high_unnecessary_aspect_ratio = unnecessary_aspect_ratio.loc[unnecessary_aspect_ratio['aspect_ratio'] > 40]\n",
    "\n",
    "print(high_unnecessary_aspect_ratio['name'].value_counts())\n",
    "print(high_unnecessary_aspect_ratio['attrs'].value_counts())"
   ]
  },
  {
   "cell_type": "markdown",
   "metadata": {},
   "source": [
    "Most (67/71) of these div tags can be discriminated by the __red_flag_class__ feature. The other 3 div tags ('site sub') lie in the same vector space as the 'hatnote' div tags. Hence they can be discriminated. The last div tag has an almost similar vector space, with two differences - no red flag class, but high relative_listing. Hence, they can be differentiated."
   ]
  },
  {
   "cell_type": "code",
   "execution_count": 38,
   "metadata": {},
   "outputs": [
    {
     "name": "stdout",
     "output_type": "stream",
     "text": [
      "a       234\n",
      "i        25\n",
      "span     18\n",
      "p         9\n",
      "div       9\n",
      "b         2\n",
      "dl        1\n",
      "sup       1\n",
      "Name: name, dtype: int64\n",
      "[]                                                                                  37\n",
      "['/wiki/Statistics', 'Statistics']                                                   7\n",
      "['/wiki/Machine_learning', 'Machine learning']                                       7\n",
      "['/wiki/Logic', 'Logic']                                                             5\n",
      "['/wiki/Automated_planning_and_scheduling', 'Automated planning and scheduling']     5\n",
      "                                                                                    ..\n",
      "['/wiki/Denver', 'Denver']                                                           1\n",
      "[['mw-headline'], 'Logic']                                                           1\n",
      "['/wiki/Text_corpus', 'Text corpus']                                                 1\n",
      "['/wiki/Atari_2600', 'Atari 2600']                                                   1\n",
      "['/wiki/Affect_(psychology)', 'Affect (psychology)']                                 1\n",
      "Name: attrs, Length: 198, dtype: int64\n"
     ]
    }
   ],
   "source": [
    "low_necessary_aspect_ratio = necessary_aspect_ratio.loc[necessary_aspect_ratio['aspect_ratio'] < 4]\n",
    "\n",
    "print(low_necessary_aspect_ratio['name'].value_counts())\n",
    "print(low_necessary_aspect_ratio['attrs'].value_counts())"
   ]
  },
  {
   "cell_type": "markdown",
   "metadata": {},
   "source": [
    "All the other tags would survive, but for a tags, we don't have any distinguishing feature. Hence, along with aspect_ratio, we would also need height or width."
   ]
  },
  {
   "cell_type": "code",
   "execution_count": 39,
   "metadata": {},
   "outputs": [
    {
     "data": {
      "text/plain": [
       "0.0    27\n",
       "Name: label, dtype: int64"
      ]
     },
     "execution_count": 39,
     "metadata": {},
     "output_type": "execute_result"
    }
   ],
   "source": [
    "nan_aspect_ratio = data.loc[(data['aspect_ratio'].isna())]\n",
    "\n",
    "nan_aspect_ratio['label'].value_counts()"
   ]
  },
  {
   "cell_type": "markdown",
   "metadata": {},
   "source": [
    "- For nan values of __aspect_ratio__, put 0"
   ]
  },
  {
   "cell_type": "markdown",
   "metadata": {},
   "source": [
    "Let's examine the height data now."
   ]
  },
  {
   "cell_type": "code",
   "execution_count": 41,
   "metadata": {},
   "outputs": [
    {
     "data": {
      "text/plain": [
       "div      123\n",
       "span     115\n",
       "h2         8\n",
       "table      5\n",
       "style      4\n",
       "ul         3\n",
       "Name: name, dtype: int64"
      ]
     },
     "execution_count": 41,
     "metadata": {},
     "output_type": "execute_result"
    }
   ],
   "source": [
    "high_height_unnecessary_tags = unnecessary_tags.loc[unnecessary_tags['height'] > 14]\n",
    "\n",
    "high_height_unnecessary_tags['name'].value_counts()"
   ]
  },
  {
   "cell_type": "markdown",
   "metadata": {},
   "source": [
    "These high height tags do have other features - __red_flag_classes__, __relative_listings__, __word_count__ etc which can distinguish these tags."
   ]
  },
  {
   "cell_type": "code",
   "execution_count": 44,
   "metadata": {},
   "outputs": [
    {
     "data": {
      "text/plain": [
       "a       1051\n",
       "span     108\n",
       "i         67\n",
       "h3        48\n",
       "h4        37\n",
       "p         36\n",
       "h2        23\n",
       "dt        11\n",
       "li         9\n",
       "b          8\n",
       "h1         3\n",
       "dd         2\n",
       "div        1\n",
       "cite       1\n",
       "sup        1\n",
       "Name: name, dtype: int64"
      ]
     },
     "execution_count": 44,
     "metadata": {},
     "output_type": "execute_result"
    }
   ],
   "source": [
    "low_height_necessary_tags = necessary_tags.loc[necessary_tags['height'] < 50]\n",
    "low_height_necessary_tags['name'].value_counts()"
   ]
  },
  {
   "cell_type": "markdown",
   "metadata": {},
   "source": [
    "We were incorporating height mainly for distinguishing a tags. Let's look at height distribution for a tags."
   ]
  },
  {
   "cell_type": "code",
   "execution_count": 47,
   "metadata": {},
   "outputs": [
    {
     "data": {
      "text/plain": [
       "<matplotlib.legend.Legend at 0x1a20e21110>"
      ]
     },
     "execution_count": 47,
     "metadata": {},
     "output_type": "execute_result"
    },
    {
     "data": {
      "image/png": "[encoded data removed]",
      "text/plain": [
       "<Figure size 432x288 with 1 Axes>"
      ]
     },
     "metadata": {
      "needs_background": "light"
     },
     "output_type": "display_data"
    }
   ],
   "source": [
    "a_tags_necessary = necessary_tags.loc[necessary_tags['name'] == 'a']\n",
    "a_tags_unnecessary = unnecessary_tags.loc[unnecessary_tags['name'] == 'a']\n",
    "\n",
    "sns.distplot(a_tags_necessary['height'], label = 'Necessary tags')\n",
    "sns.distplot(a_tags_unnecessary['height'], label = 'Unnecessary tags')\n",
    "plt.legend()"
   ]
  },
  {
   "cell_type": "markdown",
   "metadata": {},
   "source": [
    "Well, from this plot it is evident that height gives discrimination for a tags.\n",
    "- Incorporate __height__, __aspect_ratio_feature__ feature and remove __height_width_diff__, __width__"
   ]
  },
  {
   "cell_type": "markdown",
   "metadata": {},
   "source": [
    "#### Removing nan values for relative_listings and relative_table_elements"
   ]
  },
  {
   "cell_type": "code",
   "execution_count": 48,
   "metadata": {},
   "outputs": [
    {
     "data": {
      "text/plain": [
       "1.0    1222\n",
       "0.0      40\n",
       "Name: label, dtype: int64"
      ]
     },
     "execution_count": 48,
     "metadata": {},
     "output_type": "execute_result"
    }
   ],
   "source": [
    "nan_rel_listings = data.loc[data['relative_listings'].isna()]\n",
    "nan_rel_listings['label'].value_counts()"
   ]
  },
  {
   "cell_type": "markdown",
   "metadata": {},
   "source": [
    "A very high fraction of observations have an output label of 1.\n",
    "- Replace nan in __relative_listings__ by 0."
   ]
  },
  {
   "cell_type": "code",
   "execution_count": null,
   "metadata": {},
   "outputs": [],
   "source": []
  }
 ],
 "metadata": {
  "kernelspec": {
   "display_name": "Python 3",
   "language": "python",
   "name": "python3"
  },
  "language_info": {
   "codemirror_mode": {
    "name": "ipython",
    "version": 3
   },
   "file_extension": ".py",
   "mimetype": "text/x-python",
   "name": "python",
   "nbconvert_exporter": "python",
   "pygments_lexer": "ipython3",
   "version": "3.7.4"
  }
 },
 "nbformat": 4,
 "nbformat_minor": 2
}
