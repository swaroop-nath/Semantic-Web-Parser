{
 "cells": [
  {
   "cell_type": "code",
   "execution_count": 18,
   "metadata": {},
   "outputs": [],
   "source": [
    "import pandas as pd\n",
    "import seaborn as sns\n",
    "import matplotlib.pyplot as plt\n",
    "import numpy as np\n",
    "from sklearn.metrics import confusion_matrix\n",
    "from sklearn.preprocessing import LabelEncoder"
   ]
  },
  {
   "cell_type": "code",
   "execution_count": 35,
   "metadata": {},
   "outputs": [
    {
     "data": {
      "text/html": [
       "<div>\n",
       "<style scoped>\n",
       "    .dataframe tbody tr th:only-of-type {\n",
       "        vertical-align: middle;\n",
       "    }\n",
       "\n",
       "    .dataframe tbody tr th {\n",
       "        vertical-align: top;\n",
       "    }\n",
       "\n",
       "    .dataframe thead th {\n",
       "        text-align: right;\n",
       "    }\n",
       "</style>\n",
       "<table border=\"1\" class=\"dataframe\">\n",
       "  <thead>\n",
       "    <tr style=\"text-align: right;\">\n",
       "      <th></th>\n",
       "      <th>element_area_ratio</th>\n",
       "      <th>word_count</th>\n",
       "      <th>x</th>\n",
       "      <th>y</th>\n",
       "      <th>width</th>\n",
       "      <th>height</th>\n",
       "      <th>label</th>\n",
       "    </tr>\n",
       "  </thead>\n",
       "  <tbody>\n",
       "    <tr>\n",
       "      <th>count</th>\n",
       "      <td>1486.000000</td>\n",
       "      <td>1486.000000</td>\n",
       "      <td>1486.000000</td>\n",
       "      <td>1486.000000</td>\n",
       "      <td>1486.000000</td>\n",
       "      <td>1486.000000</td>\n",
       "      <td>1486.000000</td>\n",
       "    </tr>\n",
       "    <tr>\n",
       "      <th>mean</th>\n",
       "      <td>0.014831</td>\n",
       "      <td>17.557201</td>\n",
       "      <td>477.185061</td>\n",
       "      <td>830.785330</td>\n",
       "      <td>151.284208</td>\n",
       "      <td>36.671792</td>\n",
       "      <td>0.258412</td>\n",
       "    </tr>\n",
       "    <tr>\n",
       "      <th>std</th>\n",
       "      <td>0.177027</td>\n",
       "      <td>161.309909</td>\n",
       "      <td>364.575654</td>\n",
       "      <td>9205.559514</td>\n",
       "      <td>229.531577</td>\n",
       "      <td>250.394890</td>\n",
       "      <td>0.437909</td>\n",
       "    </tr>\n",
       "    <tr>\n",
       "      <th>min</th>\n",
       "      <td>0.000000</td>\n",
       "      <td>1.000000</td>\n",
       "      <td>0.000000</td>\n",
       "      <td>-99854.000000</td>\n",
       "      <td>0.000000</td>\n",
       "      <td>0.000000</td>\n",
       "      <td>0.000000</td>\n",
       "    </tr>\n",
       "    <tr>\n",
       "      <th>25%</th>\n",
       "      <td>0.000071</td>\n",
       "      <td>1.000000</td>\n",
       "      <td>208.000000</td>\n",
       "      <td>333.250000</td>\n",
       "      <td>5.599991</td>\n",
       "      <td>11.199997</td>\n",
       "      <td>0.000000</td>\n",
       "    </tr>\n",
       "    <tr>\n",
       "      <th>50%</th>\n",
       "      <td>0.000278</td>\n",
       "      <td>2.000000</td>\n",
       "      <td>340.000000</td>\n",
       "      <td>1815.000000</td>\n",
       "      <td>30.533340</td>\n",
       "      <td>13.599991</td>\n",
       "      <td>0.000000</td>\n",
       "    </tr>\n",
       "    <tr>\n",
       "      <th>75%</th>\n",
       "      <td>0.002232</td>\n",
       "      <td>5.000000</td>\n",
       "      <td>797.000000</td>\n",
       "      <td>2821.000000</td>\n",
       "      <td>201.200005</td>\n",
       "      <td>19.649994</td>\n",
       "      <td>1.000000</td>\n",
       "    </tr>\n",
       "    <tr>\n",
       "      <th>max</th>\n",
       "      <td>3.857573</td>\n",
       "      <td>3057.000000</td>\n",
       "      <td>1242.000000</td>\n",
       "      <td>5722.000000</td>\n",
       "      <td>1041.599976</td>\n",
       "      <td>5424.000000</td>\n",
       "      <td>1.000000</td>\n",
       "    </tr>\n",
       "  </tbody>\n",
       "</table>\n",
       "</div>"
      ],
      "text/plain": [
       "       element_area_ratio   word_count            x             y  \\\n",
       "count         1486.000000  1486.000000  1486.000000   1486.000000   \n",
       "mean             0.014831    17.557201   477.185061    830.785330   \n",
       "std              0.177027   161.309909   364.575654   9205.559514   \n",
       "min              0.000000     1.000000     0.000000 -99854.000000   \n",
       "25%              0.000071     1.000000   208.000000    333.250000   \n",
       "50%              0.000278     2.000000   340.000000   1815.000000   \n",
       "75%              0.002232     5.000000   797.000000   2821.000000   \n",
       "max              3.857573  3057.000000  1242.000000   5722.000000   \n",
       "\n",
       "             width       height        label  \n",
       "count  1486.000000  1486.000000  1486.000000  \n",
       "mean    151.284208    36.671792     0.258412  \n",
       "std     229.531577   250.394890     0.437909  \n",
       "min       0.000000     0.000000     0.000000  \n",
       "25%       5.599991    11.199997     0.000000  \n",
       "50%      30.533340    13.599991     0.000000  \n",
       "75%     201.200005    19.649994     1.000000  \n",
       "max    1041.599976  5424.000000     1.000000  "
      ]
     },
     "execution_count": 35,
     "metadata": {},
     "output_type": "execute_result"
    }
   ],
   "source": [
    "dataset = pd.read_csv('First Iteration Data\\dataset.csv')\n",
    "dataset.describe()"
   ]
  },
  {
   "cell_type": "code",
   "execution_count": 36,
   "metadata": {},
   "outputs": [
    {
     "data": {
      "text/plain": [
       "<matplotlib.axes._subplots.AxesSubplot at 0x1e3ddbef748>"
      ]
     },
     "execution_count": 36,
     "metadata": {},
     "output_type": "execute_result"
    },
    {
     "data": {
      "image/png": "[encoded data removed]",
      "text/plain": [
       "<Figure size 432x288 with 1 Axes>"
      ]
     },
     "metadata": {},
     "output_type": "display_data"
    }
   ],
   "source": [
    "sns.distplot(dataset.label)"
   ]
  },
  {
   "cell_type": "code",
   "execution_count": 39,
   "metadata": {},
   "outputs": [
    {
     "name": "stdout",
     "output_type": "stream",
     "text": [
      "384\n",
      "1102\n",
      "ratio = 0.25841184387617766\n"
     ]
    }
   ],
   "source": [
    "ones = [a for a in dataset.label if a==1]\n",
    "zeros = [a for a in dataset.label if a==0]\n",
    "print(len(ones))\n",
    "print(len(zeros))\n",
    "print('ratio = ' + str(len(ones)/(len(ones)+len(zeros))))"
   ]
  },
  {
   "cell_type": "code",
   "execution_count": null,
   "metadata": {},
   "outputs": [],
   "source": []
  }
 ],
 "metadata": {
  "kernelspec": {
   "display_name": "Python 3",
   "language": "python",
   "name": "python3"
  },
  "language_info": {
   "codemirror_mode": {
    "name": "ipython",
    "version": 3
   },
   "file_extension": ".py",
   "mimetype": "text/x-python",
   "name": "python",
   "nbconvert_exporter": "python",
   "pygments_lexer": "ipython3",
   "version": "3.6.5"
  }
 },
 "nbformat": 4,
 "nbformat_minor": 2
}
